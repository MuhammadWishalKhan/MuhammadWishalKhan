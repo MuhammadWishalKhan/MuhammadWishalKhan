{
  "nbformat": 4,
  "nbformat_minor": 0,
  "metadata": {
    "colab": {
      "name": "Comparative study between NB and LSTM",
      "provenance": []
    },
    "kernelspec": {
      "name": "python3",
      "display_name": "Python 3"
    }
  },
  "cells": [
    {
      "cell_type": "markdown",
      "metadata": {
        "id": "VhXjiPxn-5sn"
      },
      "source": [
        "Ibrahim, Anas, Zarin, Muhammad"
      ]
    },
    {
      "cell_type": "markdown",
      "metadata": {
        "id": "q8hsYb3U491y"
      },
      "source": [
        "1. Import, read and specify dataset\n",
        "\n",
        "Preparation of Data\n",
        "\n"
      ]
    },
    {
      "cell_type": "code",
      "metadata": {
        "id": "Pft3RbjLwsKp"
      },
      "source": [
        "from time import time\n",
        "import random\n",
        "\n",
        "import pandas as pd\n",
        "import matplotlib.pyplot as plt\n"
      ],
      "execution_count": null,
      "outputs": []
    },
    {
      "cell_type": "code",
      "metadata": {
        "colab": {
          "base_uri": "https://localhost:8080/",
          "height": 80
        },
        "id": "uYHVZ59JwxIX",
        "outputId": "ea6545d0-3c7d-4c26-ab99-c8ca8dcb6abf"
      },
      "source": [
        "# remove titles and read in latin\n",
        "df_raw = pd.read_csv('training.1600000.processed.noemoticon.csv', encoding = \"ISO-8859-1\", header=None)\n",
        "\n",
        " # Add column title\n",
        "df_raw.columns = [\"label\", \"time\", \"date\", \"query\", \"username\", \"text\"]\n",
        "\n",
        "# View dataframes - specify how many to view\n",
        "df_raw.head(1)"
      ],
      "execution_count": null,
      "outputs": [
        {
          "output_type": "execute_result",
          "data": {
            "text/html": [
              "<div>\n",
              "<style scoped>\n",
              "    .dataframe tbody tr th:only-of-type {\n",
              "        vertical-align: middle;\n",
              "    }\n",
              "\n",
              "    .dataframe tbody tr th {\n",
              "        vertical-align: top;\n",
              "    }\n",
              "\n",
              "    .dataframe thead th {\n",
              "        text-align: right;\n",
              "    }\n",
              "</style>\n",
              "<table border=\"1\" class=\"dataframe\">\n",
              "  <thead>\n",
              "    <tr style=\"text-align: right;\">\n",
              "      <th></th>\n",
              "      <th>label</th>\n",
              "      <th>time</th>\n",
              "      <th>date</th>\n",
              "      <th>query</th>\n",
              "      <th>username</th>\n",
              "      <th>text</th>\n",
              "    </tr>\n",
              "  </thead>\n",
              "  <tbody>\n",
              "    <tr>\n",
              "      <th>0</th>\n",
              "      <td>0</td>\n",
              "      <td>1467810369</td>\n",
              "      <td>Mon Apr 06 22:19:45 PDT 2009</td>\n",
              "      <td>NO_QUERY</td>\n",
              "      <td>_TheSpecialOne_</td>\n",
              "      <td>@switchfoot http://twitpic.com/2y1zl - Awww, t...</td>\n",
              "    </tr>\n",
              "  </tbody>\n",
              "</table>\n",
              "</div>"
            ],
            "text/plain": [
              "   label  ...                                               text\n",
              "0      0  ...  @switchfoot http://twitpic.com/2y1zl - Awww, t...\n",
              "\n",
              "[1 rows x 6 columns]"
            ]
          },
          "metadata": {
            "tags": []
          },
          "execution_count": 4
        }
      ]
    },
    {
      "cell_type": "code",
      "metadata": {
        "colab": {
          "base_uri": "https://localhost:8080/"
        },
        "id": "TkG-EoKsy5kx",
        "outputId": "b1bd6f80-848c-41a0-c58c-8eeabda9dbd8"
      },
      "source": [
        "# 4 = +\n",
        "# 0 = -\n",
        "df_raw['label'].value_counts()"
      ],
      "execution_count": null,
      "outputs": [
        {
          "output_type": "execute_result",
          "data": {
            "text/plain": [
              "4    800000\n",
              "0    800000\n",
              "Name: label, dtype: int64"
            ]
          },
          "metadata": {
            "tags": []
          },
          "execution_count": 5
        }
      ]
    },
    {
      "cell_type": "code",
      "metadata": {
        "colab": {
          "base_uri": "https://localhost:8080/",
          "height": 202
        },
        "id": "mJFKc_sTy_KY",
        "outputId": "9f86c165-4741-4748-c7b9-e6ffc4cb6050"
      },
      "source": [
        "# Keep text and label, delete everything else (label text)\n",
        "df = df_raw[['label', 'text']]\n",
        "df.head()"
      ],
      "execution_count": null,
      "outputs": [
        {
          "output_type": "execute_result",
          "data": {
            "text/html": [
              "<div>\n",
              "<style scoped>\n",
              "    .dataframe tbody tr th:only-of-type {\n",
              "        vertical-align: middle;\n",
              "    }\n",
              "\n",
              "    .dataframe tbody tr th {\n",
              "        vertical-align: top;\n",
              "    }\n",
              "\n",
              "    .dataframe thead th {\n",
              "        text-align: right;\n",
              "    }\n",
              "</style>\n",
              "<table border=\"1\" class=\"dataframe\">\n",
              "  <thead>\n",
              "    <tr style=\"text-align: right;\">\n",
              "      <th></th>\n",
              "      <th>label</th>\n",
              "      <th>text</th>\n",
              "    </tr>\n",
              "  </thead>\n",
              "  <tbody>\n",
              "    <tr>\n",
              "      <th>0</th>\n",
              "      <td>0</td>\n",
              "      <td>@switchfoot http://twitpic.com/2y1zl - Awww, t...</td>\n",
              "    </tr>\n",
              "    <tr>\n",
              "      <th>1</th>\n",
              "      <td>0</td>\n",
              "      <td>is upset that he can't update his Facebook by ...</td>\n",
              "    </tr>\n",
              "    <tr>\n",
              "      <th>2</th>\n",
              "      <td>0</td>\n",
              "      <td>@Kenichan I dived many times for the ball. Man...</td>\n",
              "    </tr>\n",
              "    <tr>\n",
              "      <th>3</th>\n",
              "      <td>0</td>\n",
              "      <td>my whole body feels itchy and like its on fire</td>\n",
              "    </tr>\n",
              "    <tr>\n",
              "      <th>4</th>\n",
              "      <td>0</td>\n",
              "      <td>@nationwideclass no, it's not behaving at all....</td>\n",
              "    </tr>\n",
              "  </tbody>\n",
              "</table>\n",
              "</div>"
            ],
            "text/plain": [
              "   label                                               text\n",
              "0      0  @switchfoot http://twitpic.com/2y1zl - Awww, t...\n",
              "1      0  is upset that he can't update his Facebook by ...\n",
              "2      0  @Kenichan I dived many times for the ball. Man...\n",
              "3      0    my whole body feels itchy and like its on fire \n",
              "4      0  @nationwideclass no, it's not behaving at all...."
            ]
          },
          "metadata": {
            "tags": []
          },
          "execution_count": 6
        }
      ]
    },
    {
      "cell_type": "code",
      "metadata": {
        "colab": {
          "base_uri": "https://localhost:8080/"
        },
        "id": "sDI18WIEzEKG",
        "outputId": "54eff9bb-cc76-4a8c-918e-0e529cad47cb"
      },
      "source": [
        "# Distinguish between pos and neg rows\n",
        "df_pos = df[df['label'] == 4]\n",
        "df_neg = df[df['label'] == 0]\n",
        "print(len(df_pos), len(df_neg))"
      ],
      "execution_count": null,
      "outputs": [
        {
          "output_type": "stream",
          "text": [
            "800000 800000\n"
          ],
          "name": "stdout"
        }
      ]
    },
    {
      "cell_type": "code",
      "metadata": {
        "colab": {
          "base_uri": "https://localhost:8080/"
        },
        "id": "dhSnc3rGzNn2",
        "outputId": "bff3665f-0005-4a3a-c079-776b8a651040"
      },
      "source": [
        "# Divide and choose appropriate portion of dataset. \n",
        "\n",
        "df_pos = df_pos.iloc[:int(len(df_pos)/64)]\n",
        "df_neg = df_neg.iloc[:int(len(df_neg)/64)]\n",
        "print(len(df_pos), len(df_neg))"
      ],
      "execution_count": null,
      "outputs": [
        {
          "output_type": "stream",
          "text": [
            "12500 12500\n"
          ],
          "name": "stdout"
        }
      ]
    },
    {
      "cell_type": "code",
      "metadata": {
        "colab": {
          "base_uri": "https://localhost:8080/"
        },
        "id": "4ECEaf_kzbKD",
        "outputId": "c6bb528f-8e51-4d7f-9fb9-517b7588a651"
      },
      "source": [
        "# Concatinating both positive and negative groups and storing them back into a single dataframe\n",
        "df = pd.concat([df_pos, df_neg])\n",
        "len(df)"
      ],
      "execution_count": null,
      "outputs": [
        {
          "output_type": "execute_result",
          "data": {
            "text/plain": [
              "25000"
            ]
          },
          "metadata": {
            "tags": []
          },
          "execution_count": 9
        }
      ]
    },
    {
      "cell_type": "code",
      "metadata": {
        "colab": {
          "base_uri": "https://localhost:8080/"
        },
        "id": "6DfdGPUTzfZA",
        "outputId": "d14f753a-ab8c-41ef-86bb-72f612a05693"
      },
      "source": [
        "start_time = time()\n",
        "\n",
        "from nltk.tokenize import TweetTokenizer\n",
        "# The redule_len parameter will allow a maximum of 3 consecutive repeating characters, while trimming the rest\n",
        "# For example, it will tranform the word: 'Helloooooooooo' to: 'Hellooo'\n",
        "tk = TweetTokenizer(reduce_len=True)\n",
        "\n",
        "data = []\n",
        "\n",
        "# Separating our features (text) and our labels into two lists to smoothen our work\n",
        "X = df['text'].tolist()\n",
        "Y = df['label'].tolist()\n",
        "\n",
        "#Building our data list, that is a list of tuples, where each tuple is a pair of the tokenized text and its corresponding label\n",
        "for x, y in zip(X, Y):\n",
        "    if y == 4:\n",
        "        data.append((tk.tokenize(x), 1))\n",
        "    else:\n",
        "        data.append((tk.tokenize(x), 0))\n",
        "        \n",
        "# Printing the CPU time and the first 5 elements of our 'data' list\n",
        "print('CPU Time:', time() - start_time)\n",
        "data[:5]"
      ],
      "execution_count": null,
      "outputs": [
        {
          "output_type": "stream",
          "text": [
            "CPU Time: 2.627612829208374\n"
          ],
          "name": "stdout"
        },
        {
          "output_type": "execute_result",
          "data": {
            "text/plain": [
              "[(['I', 'LOVE', '@Health4UandPets', 'u', 'guys', 'r', 'the', 'best', '!', '!'],\n",
              "  1),\n",
              " (['im',\n",
              "   'meeting',\n",
              "   'up',\n",
              "   'with',\n",
              "   'one',\n",
              "   'of',\n",
              "   'my',\n",
              "   'besties',\n",
              "   'tonight',\n",
              "   '!',\n",
              "   'Cant',\n",
              "   'wait',\n",
              "   '!',\n",
              "   '!',\n",
              "   '-',\n",
              "   'GIRL',\n",
              "   'TALK',\n",
              "   '!',\n",
              "   '!'],\n",
              "  1),\n",
              " (['@DaRealSunisaKim',\n",
              "   'Thanks',\n",
              "   'for',\n",
              "   'the',\n",
              "   'Twitter',\n",
              "   'add',\n",
              "   ',',\n",
              "   'Sunisa',\n",
              "   '!',\n",
              "   'I',\n",
              "   'got',\n",
              "   'to',\n",
              "   'meet',\n",
              "   'you',\n",
              "   'once',\n",
              "   'at',\n",
              "   'a',\n",
              "   'HIN',\n",
              "   'show',\n",
              "   'here',\n",
              "   'in',\n",
              "   'the',\n",
              "   'DC',\n",
              "   'area',\n",
              "   'and',\n",
              "   'you',\n",
              "   'were',\n",
              "   'a',\n",
              "   'sweetheart',\n",
              "   '.'],\n",
              "  1),\n",
              " (['Being',\n",
              "   'sick',\n",
              "   'can',\n",
              "   'be',\n",
              "   'really',\n",
              "   'cheap',\n",
              "   'when',\n",
              "   'it',\n",
              "   'hurts',\n",
              "   'too',\n",
              "   'much',\n",
              "   'to',\n",
              "   'eat',\n",
              "   'real',\n",
              "   'food',\n",
              "   'Plus',\n",
              "   ',',\n",
              "   'your',\n",
              "   'friends',\n",
              "   'make',\n",
              "   'you',\n",
              "   'soup'],\n",
              "  1),\n",
              " (['@LovesBrooklyn2', 'he', 'has', 'that', 'effect', 'on', 'everyone'], 1)]"
            ]
          },
          "metadata": {
            "tags": []
          },
          "execution_count": 10
        }
      ]
    },
    {
      "cell_type": "code",
      "metadata": {
        "id": "kvOf4PslzzYA"
      },
      "source": [
        "from nltk.tag import pos_tag\n",
        "from nltk.stem.wordnet import WordNetLemmatizer\n",
        "\n",
        "# Previewing the pos_tag() output\n",
        "#print(pos_tag(data[0][0]))"
      ],
      "execution_count": null,
      "outputs": []
    },
    {
      "cell_type": "code",
      "metadata": {
        "id": "oUFtM9yR0bTU"
      },
      "source": [
        "def lemmatize_sentence(tokens):\n",
        "    lemmatizer = WordNetLemmatizer()\n",
        "    lemmatized_sentence = []\n",
        "    for word, tag in pos_tag(tokens):\n",
        "        # First, we will convert the pos_tag output tags to a tag format that the WordNetLemmatizer can interpret\n",
        "        # In general, if a tag starts with NN, the word is a noun and if it stars with VB, the word is a verb.\n",
        "        if tag.startswith('NN'):\n",
        "            pos = 'n'\n",
        "        elif tag.startswith('VB'):\n",
        "            pos = 'v'\n",
        "        else:\n",
        "            pos = 'a'\n",
        "        lemmatized_sentence.append(lemmatizer.lemmatize(word, pos))\n",
        "    return lemmatized_sentence\n",
        "\n",
        "# Previewing the WordNetLemmatizer() output\n",
        "#print(lemmatize_sentence(data[0][0]))"
      ],
      "execution_count": null,
      "outputs": []
    },
    {
      "cell_type": "markdown",
      "metadata": {
        "id": "tRSJvYrRaMhH"
      },
      "source": [
        "Cleaning dataset and removing meaningless words."
      ]
    },
    {
      "cell_type": "code",
      "metadata": {
        "colab": {
          "base_uri": "https://localhost:8080/"
        },
        "id": "g0O0JwcT0wuD",
        "outputId": "ac91cb4f-7265-4223-a8b3-0ee14bf28a2b"
      },
      "source": [
        "import re, string\n",
        "import nltk\n",
        "nltk.download(\"stopwords\")\n",
        "nltk.download('averaged_perceptron_tagger')\n",
        "nltk.download('wordnet')\n",
        "\n",
        "# Stopwords are frequently-used words (such as “the”, “a”, “an”, “in”) that do not hold any meaning useful to extract sentiment.\n",
        "# If it's your first time ever using nltk, you can download nltk's stopwords using: nltk.download('stopwords')\n",
        "from nltk.corpus import stopwords\n",
        "STOP_WORDS = stopwords.words('english')\n",
        "\n",
        "# A custom function defined in order to fine-tune the cleaning of the input text. This function is highly dependent on each usecase.\n",
        "# Note: Only include misspelling or abbreviations of commonly used words. Including many minimally present cases would negatively impact the performance. \n",
        "def cleaned(token):\n",
        "    if token == 'u':\n",
        "        return 'you'\n",
        "    if token == 'r':\n",
        "        return 'are'\n",
        "    if token == 'some1':\n",
        "        return 'someone'\n",
        "    if token == 'yrs':\n",
        "        return 'years'\n",
        "    if token == 'hrs':\n",
        "        return 'hours'\n",
        "    if token == 'mins':\n",
        "        return 'minutes'\n",
        "    if token == 'secs':\n",
        "        return 'seconds'\n",
        "    if token == 'pls' or token == 'plz':\n",
        "        return 'please'\n",
        "    if token == '2morow':\n",
        "        return 'tomorrow'\n",
        "    if token == '2day':\n",
        "        return 'today'\n",
        "    if token == '4got' or token == '4gotten':\n",
        "        return 'forget'\n",
        "    if token == 'amp' or token == 'quot' or token == 'lt' or token == 'gt' or token == '½25':\n",
        "        return ''\n",
        "    return token\n",
        "\n",
        "# This function will be our all-in-one noise removal function\n",
        "def remove_noise(tweet_tokens):\n",
        "\n",
        "    cleaned_tokens = []\n",
        "\n",
        "    for token, tag in pos_tag(tweet_tokens):\n",
        "        # Eliminating the token if it is a link\n",
        "        token = re.sub('http[s]?://(?:[a-zA-Z]|[0-9]|[$-_@.&+#]|[!*\\(\\),]|'\\\n",
        "                       '(?:%[0-9a-fA-F][0-9a-fA-F]))+','', token)\n",
        "        # Eliminating the token if it is a mention\n",
        "        token = re.sub(\"(@[A-Za-z0-9_]+)\",\"\", token)\n",
        "\n",
        "        if tag.startswith(\"NN\"):\n",
        "            pos = 'n'\n",
        "        elif tag.startswith('VB'):\n",
        "            pos = 'v'\n",
        "        else:\n",
        "            pos = 'a'\n",
        "\n",
        "        lemmatizer = WordNetLemmatizer()\n",
        "        token = lemmatizer.lemmatize(token, pos)\n",
        "\n",
        "        cleaned_token = cleaned(token.lower())\n",
        "        \n",
        "        # Eliminating the token if its length is less than 3, if it is a punctuation or if it is a stopword\n",
        "        if cleaned_token not in string.punctuation and len(cleaned_token) > 2 and cleaned_token not in STOP_WORDS:\n",
        "            cleaned_tokens.append(cleaned_token)\n",
        "            \n",
        "    return cleaned_tokens\n",
        "\n",
        "# Prevewing the remove_noise() output\n",
        "print(remove_noise(data[0][0]))"
      ],
      "execution_count": null,
      "outputs": [
        {
          "output_type": "stream",
          "text": [
            "[nltk_data] Downloading package stopwords to /root/nltk_data...\n",
            "[nltk_data]   Unzipping corpora/stopwords.zip.\n",
            "[nltk_data] Downloading package averaged_perceptron_tagger to\n",
            "[nltk_data]     /root/nltk_data...\n",
            "[nltk_data]   Unzipping taggers/averaged_perceptron_tagger.zip.\n",
            "[nltk_data] Downloading package wordnet to /root/nltk_data...\n",
            "[nltk_data]   Unzipping corpora/wordnet.zip.\n",
            "['love', 'guy', 'best']\n"
          ],
          "name": "stdout"
        }
      ]
    },
    {
      "cell_type": "code",
      "metadata": {
        "colab": {
          "base_uri": "https://localhost:8080/"
        },
        "id": "QOrlnO3x1iFU",
        "outputId": "ad899b78-b337-4f60-84ed-baf589a70bee"
      },
      "source": [
        "start_time = time()\n",
        "\n",
        "# As the Naive Bayesian classifier accepts inputs in a dict-like structure,\n",
        "# we have to define a function that tranforms our data into the required input structure\n",
        "def list_to_dict(cleaned_tokens):\n",
        "    return dict([token, True] for token in cleaned_tokens)\n",
        "\n",
        "cleaned_tokens_list = []\n",
        "\n",
        "# Removing noise from all the data\n",
        "for tokens, label in data:\n",
        "    cleaned_tokens_list.append((remove_noise(tokens), label))\n",
        "\n",
        "print('Removed Noise, CPU Time:', time() - start_time)\n",
        "start_time = time()\n",
        "\n",
        "final_data = []\n",
        "\n",
        "# Transforming the data to fit the input strucutre of the Naive Bayesian classifier\n",
        "for tokens, label in cleaned_tokens_list:\n",
        "    final_data.append((list_to_dict(tokens), label))\n",
        "    \n",
        "print('Data Prepared for model, CPU Time:', time() - start_time)\n",
        "\n",
        "# Previewing our final (tokenized, cleaned and lemmatized) data list\n",
        "final_data[:5]"
      ],
      "execution_count": null,
      "outputs": [
        {
          "output_type": "stream",
          "text": [
            "Removed Noise, CPU Time: 19.900988340377808\n",
            "Data Prepared for model, CPU Time: 0.1806797981262207\n"
          ],
          "name": "stdout"
        },
        {
          "output_type": "execute_result",
          "data": {
            "text/plain": [
              "[({'best': True, 'guy': True, 'love': True}, 1),\n",
              " ({'besties': True,\n",
              "   'cant': True,\n",
              "   'girl': True,\n",
              "   'meet': True,\n",
              "   'one': True,\n",
              "   'talk': True,\n",
              "   'tonight': True,\n",
              "   'wait': True},\n",
              "  1),\n",
              " ({'add': True,\n",
              "   'area': True,\n",
              "   'get': True,\n",
              "   'hin': True,\n",
              "   'meet': True,\n",
              "   'show': True,\n",
              "   'sunisa': True,\n",
              "   'sweetheart': True,\n",
              "   'thanks': True,\n",
              "   'twitter': True},\n",
              "  1),\n",
              " ({'cheap': True,\n",
              "   'eat': True,\n",
              "   'food': True,\n",
              "   'friend': True,\n",
              "   'hurt': True,\n",
              "   'make': True,\n",
              "   'much': True,\n",
              "   'plus': True,\n",
              "   'real': True,\n",
              "   'really': True,\n",
              "   'sick': True,\n",
              "   'soup': True},\n",
              "  1),\n",
              " ({'effect': True, 'everyone': True}, 1)]"
            ]
          },
          "metadata": {
            "tags": []
          },
          "execution_count": 15
        }
      ]
    },
    {
      "cell_type": "code",
      "metadata": {
        "colab": {
          "base_uri": "https://localhost:8080/"
        },
        "id": "x1Nt8Jw13XPq",
        "outputId": "1b3bb38c-d7ee-409c-ecbf-c17008341e24"
      },
      "source": [
        "start_time = time()\n",
        "\n",
        "from wordcloud import WordCloud, STOPWORDS\n",
        "\n",
        "positive_words = []\n",
        "negative_words = []\n",
        "\n",
        "# Separating out positive and negative words (i.e., words appearing in negative and positive tweets),\n",
        "# in order to visualize each set of words seperately\n",
        "for i in range(len(cleaned_tokens_list)):\n",
        "    if cleaned_tokens_list[i][1] == 1:\n",
        "        positive_words.extend(cleaned_tokens_list[i][0])\n",
        "    else:\n",
        "        negative_words.extend(cleaned_tokens_list[i][0])\n",
        "\n",
        "# Defining our word cloud drawing function\n",
        "#def wordcloud_draw(data, color = 'black'):\n",
        "    #wordcloud = WordCloud(stopwords = STOPWORDS,\n",
        "                          #background_color = color,\n",
        "                          #width = 2500,\n",
        "                          #height = 2000\n",
        "                         #).generate(' '.join(data))\n",
        "    #plt.figure(1, figsize = (13, 13))\n",
        "    #plt.imshow(wordcloud)\n",
        "    #plt.axis('off')\n",
        "    #plt.show()\n",
        "    \n",
        "#print(\"Positive words\")\n",
        "#wordcloud_draw(positive_words, 'white')\n",
        "#print(\"Negative words\")\n",
        "#wordcloud_draw(negative_words)        \n",
        "\n",
        "print('CPU Time:', time() - start_time)"
      ],
      "execution_count": null,
      "outputs": [
        {
          "output_type": "stream",
          "text": [
            "CPU Time: 0.05377554893493652\n"
          ],
          "name": "stdout"
        }
      ]
    },
    {
      "cell_type": "markdown",
      "metadata": {
        "id": "kEC7H3Wf5MFJ"
      },
      "source": [
        "2. Naive Bayes Algorithm"
      ]
    },
    {
      "cell_type": "code",
      "metadata": {
        "id": "H4aJPcQr5Qfj"
      },
      "source": [
        "import random\n",
        "\n",
        "# .Random(140) randomizes our data with seed = 140. This guarantees the same shuffling for every execution of our code\n",
        "# Feel free to alter this value or even omit it to have different outputs for each code execution\n",
        "random.Random(140).shuffle(final_data)\n",
        "\n",
        "#  90% train data and 10% test data\n",
        "\n",
        "trim_index = int(len(final_data) * 0.9)\n",
        "\n",
        "train_data = final_data[:trim_index]\n",
        "test_data = final_data[trim_index:]"
      ],
      "execution_count": null,
      "outputs": []
    },
    {
      "cell_type": "markdown",
      "metadata": {
        "id": "zh-hRpd-bGTn"
      },
      "source": [
        "[          90%             ] - Trained\n",
        "[  10%  ] - New data, predict and classify according to |^|"
      ]
    },
    {
      "cell_type": "code",
      "metadata": {
        "colab": {
          "base_uri": "https://localhost:8080/"
        },
        "id": "ghNSmB-w5ilc",
        "outputId": "6d8cb2e0-c664-40f3-ce08-4c71cc579163"
      },
      "source": [
        "start_time = time()\n",
        "\n",
        "from nltk import classify\n",
        "from nltk import NaiveBayesClassifier\n",
        "classifier = NaiveBayesClassifier.train(train_data)\n",
        "\n",
        "# Output the model accuracy on the train and test data\n",
        "print('Accuracy on train data:', classify.accuracy(classifier, train_data))\n",
        "print('Accuracy on test data:', classify.accuracy(classifier, test_data))\n",
        "\n",
        "# Output the words that provide the most information about the sentiment of a tweet.\n",
        "# These are words that are heavily present in one sentiment group and very rarely present in the other group.\n",
        "print(classifier.show_most_informative_features(20))\n",
        "\n",
        "print('\\nCPU Time:', time() - start_time)"
      ],
      "execution_count": null,
      "outputs": [
        {
          "output_type": "stream",
          "text": [
            "Accuracy on train data: 0.8698222222222223\n",
            "Accuracy on test data: 0.734\n",
            "Most Informative Features\n",
            "                 stomach = True                0 : 1      =     19.1 : 1.0\n",
            "                    sick = True                0 : 1      =     18.5 : 1.0\n",
            "                     thx = True                1 : 0      =     18.3 : 1.0\n",
            "                  throat = True                0 : 1      =     18.2 : 1.0\n",
            "                  lonely = True                0 : 1      =     18.2 : 1.0\n",
            "                   tummy = True                0 : 1      =     17.1 : 1.0\n",
            "                 missing = True                0 : 1      =     15.1 : 1.0\n",
            "                 welcome = True                1 : 0      =     14.9 : 1.0\n",
            "                     gah = True                0 : 1      =     14.4 : 1.0\n",
            "                  gutted = True                0 : 1      =     13.7 : 1.0\n",
            "                 dentist = True                0 : 1      =     13.4 : 1.0\n",
            "                     sad = True                0 : 1      =     13.4 : 1.0\n",
            "                    argh = True                0 : 1      =     11.8 : 1.0\n",
            "              depressing = True                0 : 1      =     11.7 : 1.0\n",
            "                    lets = True                1 : 0      =     11.6 : 1.0\n",
            "                horrible = True                0 : 1      =     11.3 : 1.0\n",
            "               infection = True                0 : 1      =     11.0 : 1.0\n",
            "                  videos = True                1 : 0      =     11.0 : 1.0\n",
            "                  dougie = True                1 : 0      =     10.3 : 1.0\n",
            "         congratulations = True                1 : 0      =     10.3 : 1.0\n",
            "None\n",
            "\n",
            "CPU Time: 1.7283365726470947\n"
          ],
          "name": "stdout"
        }
      ]
    },
    {
      "cell_type": "code",
      "metadata": {
        "colab": {
          "base_uri": "https://localhost:8080/"
        },
        "id": "lrBXnjxX5-U0",
        "outputId": "a3d5b8b0-1576-49be-c293-f2f238df7f8a"
      },
      "source": [
        "custom_tweet = \"\"\n",
        "\n",
        "custom_tokens = remove_noise(tk.tokenize(custom_tweet))\n",
        "\n",
        "print(classifier.classify(dict([token, True] for token in custom_tokens)))"
      ],
      "execution_count": null,
      "outputs": [
        {
          "output_type": "stream",
          "text": [
            "1\n"
          ],
          "name": "stdout"
        }
      ]
    },
    {
      "cell_type": "code",
      "metadata": {
        "colab": {
          "base_uri": "https://localhost:8080/"
        },
        "id": "fIZ-Ggzk6sI6",
        "outputId": "61678d00-4d92-4d4f-a37a-bfb2841416ae"
      },
      "source": [
        "custom_tweet = \"The reward for you is no reward.\"\n",
        "\n",
        "custom_tokens = remove_noise(tk.tokenize(custom_tweet))\n",
        "\n",
        "print(classifier.classify(dict([token, True] for token in custom_tokens)))"
      ],
      "execution_count": null,
      "outputs": [
        {
          "output_type": "stream",
          "text": [
            "1\n"
          ],
          "name": "stdout"
        }
      ]
    },
    {
      "cell_type": "code",
      "metadata": {
        "colab": {
          "base_uri": "https://localhost:8080/"
        },
        "id": "cYynlKjt7CJz",
        "outputId": "c5fe4776-802b-4046-b623-bec378f674c7"
      },
      "source": [
        "from sklearn import metrics\n",
        "\n",
        "# Storing all desired values in a list\n",
        "y = [test_data[i][1] for i in range(len(test_data))]\n",
        "# Storing all probabilities of having a positive sentiment in a list\n",
        "probs = [classifier.prob_classify(test_data[i][0]).prob(1) for i in range(len(test_data))]\n",
        "\n",
        "# Making sure both values a re equal\n",
        "print(len(y), len(probs))\n",
        "\n",
        "# performing the roc curve calculations\n",
        "fpr, tpr, thresholds = metrics.roc_curve(y, probs)\n",
        "\n",
        "# Printing the Area Under Curve (AUC) of the ROC curve (the closer to 1, the better)\n",
        "auc = metrics.roc_auc_score(y, probs)\n",
        "print('AUC: %.3f' % auc)"
      ],
      "execution_count": null,
      "outputs": [
        {
          "output_type": "stream",
          "text": [
            "2500 2500\n",
            "AUC: 0.802\n"
          ],
          "name": "stdout"
        }
      ]
    },
    {
      "cell_type": "code",
      "metadata": {
        "colab": {
          "base_uri": "https://localhost:8080/",
          "height": 350
        },
        "id": "8pza4rXI7WKP",
        "outputId": "a7919fcb-3c8e-4683-f336-9a9e8344d82a"
      },
      "source": [
        "# Plotting the ROC Curve\n",
        "plt.figure(figsize=(5,5))\n",
        "plt.plot([0, 1], [0, 1], 'k--')\n",
        "plt.plot(fpr, tpr, label='NB')\n",
        "plt.xlabel('fpr')\n",
        "plt.ylabel('tpr')\n",
        "plt.title('Naive Bayesian ROC curve')\n",
        "plt.show()"
      ],
      "execution_count": null,
      "outputs": [
        {
          "output_type": "display_data",
          "data": {
            "image/png": "[encoded data removed]",
            "text/plain": [
              "<Figure size 360x360 with 1 Axes>"
            ]
          },
          "metadata": {
            "tags": [],
            "needs_background": "light"
          }
        }
      ]
    },
    {
      "cell_type": "code",
      "metadata": {
        "colab": {
          "base_uri": "https://localhost:8080/",
          "height": 172
        },
        "id": "D43CugO272kQ",
        "outputId": "ac819463-94d2-4c37-ef02-f55cf0e74da0"
      },
      "source": [
        "import numpy as np\n",
        "\n",
        "# Creating a confusion matrix (this specific confusion matrix function accepts numpy arrays rather than python lists)\n",
        "\n",
        "probs = [classifier.classify(test_data[i][0]) for i in range(len(test_data))]\n",
        "y = np.asarray(y)\n",
        "probs = np.asarray(probs)\n",
        "pd.crosstab(y, probs, rownames=['Actual'], colnames=['Predicted'], margins=True)"
      ],
      "execution_count": null,
      "outputs": [
        {
          "output_type": "execute_result",
          "data": {
            "text/html": [
              "<div>\n",
              "<style scoped>\n",
              "    .dataframe tbody tr th:only-of-type {\n",
              "        vertical-align: middle;\n",
              "    }\n",
              "\n",
              "    .dataframe tbody tr th {\n",
              "        vertical-align: top;\n",
              "    }\n",
              "\n",
              "    .dataframe thead th {\n",
              "        text-align: right;\n",
              "    }\n",
              "</style>\n",
              "<table border=\"1\" class=\"dataframe\">\n",
              "  <thead>\n",
              "    <tr style=\"text-align: right;\">\n",
              "      <th>Predicted</th>\n",
              "      <th>0</th>\n",
              "      <th>1</th>\n",
              "      <th>All</th>\n",
              "    </tr>\n",
              "    <tr>\n",
              "      <th>Actual</th>\n",
              "      <th></th>\n",
              "      <th></th>\n",
              "      <th></th>\n",
              "    </tr>\n",
              "  </thead>\n",
              "  <tbody>\n",
              "    <tr>\n",
              "      <th>0</th>\n",
              "      <td>1009</td>\n",
              "      <td>261</td>\n",
              "      <td>1270</td>\n",
              "    </tr>\n",
              "    <tr>\n",
              "      <th>1</th>\n",
              "      <td>404</td>\n",
              "      <td>826</td>\n",
              "      <td>1230</td>\n",
              "    </tr>\n",
              "    <tr>\n",
              "      <th>All</th>\n",
              "      <td>1413</td>\n",
              "      <td>1087</td>\n",
              "      <td>2500</td>\n",
              "    </tr>\n",
              "  </tbody>\n",
              "</table>\n",
              "</div>"
            ],
            "text/plain": [
              "Predicted     0     1   All\n",
              "Actual                     \n",
              "0          1009   261  1270\n",
              "1           404   826  1230\n",
              "All        1413  1087  2500"
            ]
          },
          "metadata": {
            "tags": []
          },
          "execution_count": 28
        }
      ]
    },
    {
      "cell_type": "markdown",
      "metadata": {
        "id": "zkZSNS5A816o"
      },
      "source": [
        "3. Deep Learning through LSTM"
      ]
    },
    {
      "cell_type": "code",
      "metadata": {
        "colab": {
          "base_uri": "https://localhost:8080/"
        },
        "id": "HMHhikpI87dK",
        "outputId": "b973c7e0-4415-4527-b6e8-4afdf8e418e3"
      },
      "source": [
        "# Downloading and unzipping the glove word embeddings from the official website\n",
        "\n",
        "!wget http://nlp.stanford.edu/data/glove.6B.zip\n",
        "!unzip glove.6B.zip"
      ],
      "execution_count": null,
      "outputs": [
        {
          "output_type": "stream",
          "text": [
            "--2020-12-02 21:48:46--  http://nlp.stanford.edu/data/glove.6B.zip\n",
            "Resolving nlp.stanford.edu (nlp.stanford.edu)... 171.64.67.140\n",
            "Connecting to nlp.stanford.edu (nlp.stanford.edu)|171.64.67.140|:80... connected.\n",
            "HTTP request sent, awaiting response... 302 Found\n",
            "Location: https://nlp.stanford.edu/data/glove.6B.zip [following]\n",
            "--2020-12-02 21:48:46--  https://nlp.stanford.edu/data/glove.6B.zip\n",
            "Connecting to nlp.stanford.edu (nlp.stanford.edu)|171.64.67.140|:443... connected.\n",
            "HTTP request sent, awaiting response... 301 Moved Permanently\n",
            "Location: http://downloads.cs.stanford.edu/nlp/data/glove.6B.zip [following]\n",
            "--2020-12-02 21:48:47--  http://downloads.cs.stanford.edu/nlp/data/glove.6B.zip\n",
            "Resolving downloads.cs.stanford.edu (downloads.cs.stanford.edu)... 171.64.64.22\n",
            "Connecting to downloads.cs.stanford.edu (downloads.cs.stanford.edu)|171.64.64.22|:80... connected.\n",
            "HTTP request sent, awaiting response... 200 OK\n",
            "Length: 862182613 (822M) [application/zip]\n",
            "Saving to: ‘glove.6B.zip’\n",
            "\n",
            "glove.6B.zip        100%[===================>] 822.24M  1.98MB/s    in 6m 29s  \n",
            "\n",
            "2020-12-02 21:55:16 (2.11 MB/s) - ‘glove.6B.zip’ saved [862182613/862182613]\n",
            "\n",
            "Archive:  glove.6B.zip\n",
            "  inflating: glove.6B.50d.txt        \n",
            "  inflating: glove.6B.100d.txt       \n",
            "  inflating: glove.6B.200d.txt       \n",
            "  inflating: glove.6B.300d.txt       \n"
          ],
          "name": "stdout"
        }
      ]
    },
    {
      "cell_type": "code",
      "metadata": {
        "id": "yj56IOdyCE5R"
      },
      "source": [
        "# Defining a handy function in order to load a given glove file\n",
        "\n",
        "def read_glove_vecs(glove_file):\n",
        "    with open(glove_file, 'r', encoding=\"utf8\") as f:\n",
        "        words = set()\n",
        "        word_to_vec_map = {}\n",
        "        for line in f:\n",
        "            line = line.strip().split()\n",
        "            curr_word = line[0]\n",
        "            words.add(curr_word)\n",
        "            word_to_vec_map[curr_word] = np.array(line[1:], dtype=np.float64)\n",
        "        \n",
        "        i = 1\n",
        "        words_to_index = {}\n",
        "        index_to_words = {}\n",
        "        for w in sorted(words):\n",
        "            words_to_index[w] = i\n",
        "            index_to_words[i] = w\n",
        "            i = i + 1\n",
        "    return words_to_index, index_to_words, word_to_vec_map"
      ],
      "execution_count": null,
      "outputs": []
    },
    {
      "cell_type": "code",
      "metadata": {
        "id": "YuAuNQ2UCK-y"
      },
      "source": [
        "# Loading the 50-dimensional GloVe embeddings\n",
        "# This method will return three dictionaries:\n",
        "# * word_to_index: a dictionary mapping from words to their indices in the vocabulary\n",
        "# * index_to_word: dictionary mapping from indices to their corresponding words in the vocabulary\n",
        "# * word_to_vec_map: dictionary mapping words to their GloVe vector representation\n",
        "# Note that there are 400,001 words, with the valid indices ranging from 0 to 400,000\n",
        "\n",
        "word_to_index, index_to_word, word_to_vec_map = read_glove_vecs('glove.6B.50d.txt')"
      ],
      "execution_count": null,
      "outputs": []
    },
    {
      "cell_type": "code",
      "metadata": {
        "colab": {
          "base_uri": "https://localhost:8080/"
        },
        "id": "aUcadOkdCVKH",
        "outputId": "bab2c7e0-dd0a-463e-e137-ce64763168a5"
      },
      "source": [
        "word_to_index['hello']\n",
        "word_to_vec_map['hello']\n",
        "word_to_index['unk']\n"
      ],
      "execution_count": null,
      "outputs": [
        {
          "output_type": "execute_result",
          "data": {
            "text/plain": [
              "372306"
            ]
          },
          "metadata": {
            "tags": []
          },
          "execution_count": 50
        }
      ]
    },
    {
      "cell_type": "code",
      "metadata": {
        "id": "rW_vVWp-ChR3"
      },
      "source": [
        "def cosine_similarity(u, v):\n",
        "    dot = np.dot(u, v)\n",
        "    norm_u = np.sqrt(np.sum(u**2))\n",
        "    norm_v = np.sqrt(np.sum(v**2))\n",
        "    cosine_similarity = dot / (norm_u * norm_v)\n",
        "    return cosine_similarity"
      ],
      "execution_count": null,
      "outputs": []
    },
    {
      "cell_type": "code",
      "metadata": {
        "colab": {
          "base_uri": "https://localhost:8080/"
        },
        "id": "jItJdKXfClJv",
        "outputId": "c4f31deb-2a76-4dc7-e358-f419c062181b"
      },
      "source": [
        "cosine_similarity(word_to_vec_map['cucumber'], word_to_vec_map['tomato'])"
      ],
      "execution_count": null,
      "outputs": [
        {
          "output_type": "execute_result",
          "data": {
            "text/plain": [
              "0.8632714714841137"
            ]
          },
          "metadata": {
            "tags": []
          },
          "execution_count": 53
        }
      ]
    },
    {
      "cell_type": "code",
      "metadata": {
        "colab": {
          "base_uri": "https://localhost:8080/"
        },
        "id": "qXvVwHYuCoPK",
        "outputId": "ca64510a-ad61-49cc-a420-14aa0d948a0b"
      },
      "source": [
        "cosine_similarity(word_to_vec_map['cucumber'], word_to_vec_map['phone'])"
      ],
      "execution_count": null,
      "outputs": [
        {
          "output_type": "execute_result",
          "data": {
            "text/plain": [
              "-0.012485506721235957"
            ]
          },
          "metadata": {
            "tags": []
          },
          "execution_count": 54
        }
      ]
    },
    {
      "cell_type": "code",
      "metadata": {
        "colab": {
          "base_uri": "https://localhost:8080/"
        },
        "id": "fUVqf9yFCrtv",
        "outputId": "3e50aacf-ca37-47bd-8c21-bdc03b6cfeb7"
      },
      "source": [
        "start_time = time()\n",
        "\n",
        "unks = []\n",
        "UNKS = []\n",
        "\n",
        "# This function will act as a \"last resort\" in order to try and find the word\n",
        "# in the words embedding layer. It will basically eliminate contiguously occuring\n",
        "# instances of a similar character\n",
        "def cleared(word):\n",
        "    res = \"\"\n",
        "    prev = None\n",
        "    for char in word:\n",
        "        if char == prev: continue\n",
        "        prev = char\n",
        "        res += char\n",
        "    return res\n",
        "\n",
        "\n",
        "def sentence_to_indices(sentence_words, word_to_index, max_len, i):\n",
        "    global X, Y\n",
        "    sentence_indices = []\n",
        "    for j, w in enumerate(sentence_words):\n",
        "        try:\n",
        "            index = word_to_index[w]\n",
        "        except:\n",
        "            UNKS.append(w)\n",
        "            w = cleared(w)\n",
        "            try:\n",
        "                index = word_to_index[w]\n",
        "            except:\n",
        "                index = word_to_index['unk']\n",
        "                unks.append(w)\n",
        "        X[i, j] = index\n",
        "\n",
        "        \n",
        "# Here we will utilize the already computed 'cleaned_tokens_list' variable\n",
        "   \n",
        "print('Removed Noise, CPU Time:', time() - start_time)\n",
        "start_time = time()\n",
        "\n",
        "list_len = [len(i) for i, j in cleaned_tokens_list]\n",
        "max_len = max(list_len)\n",
        "print('max_len:', max_len)\n",
        "\n",
        "X = np.zeros((len(cleaned_tokens_list), max_len))\n",
        "Y = np.zeros((len(cleaned_tokens_list), ))\n",
        "\n",
        "for i, tk_lb in enumerate(cleaned_tokens_list):\n",
        "    tokens, label = tk_lb\n",
        "    sentence_to_indices(tokens, word_to_index, max_len, i)\n",
        "    Y[i] = label\n",
        "    \n",
        "print('Data Prepared for model, CPU Time:', time() - start_time)\n",
        "\n",
        "\n",
        "print(X[:5])\n",
        "print(Y[:5])"
      ],
      "execution_count": null,
      "outputs": [
        {
          "output_type": "stream",
          "text": [
            "Removed Noise, CPU Time: 0.00026726722717285156\n",
            "max_len: 19\n",
            "Data Prepared for model, CPU Time: 0.0036323070526123047\n",
            "[[226278. 169725.  74390.      0.      0.      0.      0.      0.      0.\n",
            "       0.      0.      0.      0.      0.      0.      0.      0.      0.\n",
            "       0.]\n",
            " [239785. 269953. 372306. 361859.  91041. 382320. 161844. 352214.      0.\n",
            "       0.      0.      0.      0.      0.      0.      0.      0.      0.\n",
            "       0.]\n",
            " [357161. 368306.  46173. 372306. 160418. 239785. 179025. 329974.  58999.\n",
            "  349437.      0.      0.      0.      0.      0.      0.      0.      0.\n",
            "       0.]\n",
            " [330826. 302352.  97698. 184322. 251645. 132701. 302292. 151204. 286963.\n",
            "  154049. 231458. 338210.      0.      0.      0.      0.      0.      0.\n",
            "       0.]\n",
            " [133896. 141948.      0.      0.      0.      0.      0.      0.      0.\n",
            "       0.      0.      0.      0.      0.      0.      0.      0.      0.\n",
            "       0.]]\n",
            "[1. 1. 1. 1. 1.]\n"
          ],
          "name": "stdout"
        }
      ]
    },
    {
      "cell_type": "code",
      "metadata": {
        "id": "CKReaFfFC__4"
      },
      "source": [
        "import keras\n",
        "from keras import Sequential\n",
        "from keras.models import Model\n",
        "from keras.layers import Dense, Dropout, LSTM, Bidirectional\n",
        "from keras.layers.embeddings import Embedding\n",
        "from sklearn.model_selection import train_test_split"
      ],
      "execution_count": null,
      "outputs": []
    },
    {
      "cell_type": "code",
      "metadata": {
        "id": "H3f0W9R1DENv"
      },
      "source": [
        "# Defining a function that will initialize and populate our embedding layer\n",
        "\n",
        "def pretrained_embedding_layer(word_to_vec_map, word_to_index, max_len):\n",
        "    vocab_len = len(word_to_index) + 1\n",
        "    emb_dim = word_to_vec_map[\"unk\"].shape[0] #50\n",
        "    \n",
        "    emb_matrix = np.zeros((vocab_len, emb_dim))\n",
        "    \n",
        "    for word, idx in word_to_index.items():\n",
        "        emb_matrix[idx, :] = word_to_vec_map[word]\n",
        "        \n",
        "    embedding_layer = Embedding(vocab_len, emb_dim, trainable=False, input_shape=(max_len,))\n",
        "    embedding_layer.build((None,))\n",
        "    embedding_layer.set_weights([emb_matrix])\n",
        "    \n",
        "    return embedding_layer"
      ],
      "execution_count": null,
      "outputs": []
    },
    {
      "cell_type": "code",
      "metadata": {
        "colab": {
          "base_uri": "https://localhost:8080/"
        },
        "id": "SQkOqCmGDIiF",
        "outputId": "b308ad81-e73c-486f-c98a-37d1822688bc"
      },
      "source": [
        "# Add LSTM layers and the final layer is the sigmoid layer which is responsible for classifying between 0 and 1 ie between negative and positive\n",
        ".\n",
        "\n",
        "model = Sequential()\n",
        "\n",
        "model.add(pretrained_embedding_layer(word_to_vec_map, word_to_index, max_len))\n",
        "model.add(Bidirectional(LSTM(units=128, return_sequences=True)))\n",
        "model.add(Bidirectional(LSTM(units=128, return_sequences=False)))\n",
        "model.add(Dense(units=1, activation='sigmoid'))\n",
        "\n",
        "model.summary()"
      ],
      "execution_count": null,
      "outputs": [
        {
          "output_type": "stream",
          "text": [
            "Model: \"sequential_1\"\n",
            "_________________________________________________________________\n",
            "Layer (type)                 Output Shape              Param #   \n",
            "=================================================================\n",
            "embedding_1 (Embedding)      (None, 19, 50)            20000050  \n",
            "_________________________________________________________________\n",
            "bidirectional_2 (Bidirection (None, 19, 256)           183296    \n",
            "_________________________________________________________________\n",
            "bidirectional_3 (Bidirection (None, 256)               394240    \n",
            "_________________________________________________________________\n",
            "dense_1 (Dense)              (None, 1)                 257       \n",
            "=================================================================\n",
            "Total params: 20,577,843\n",
            "Trainable params: 577,793\n",
            "Non-trainable params: 20,000,050\n",
            "_________________________________________________________________\n"
          ],
          "name": "stdout"
        }
      ]
    },
    {
      "cell_type": "code",
      "metadata": {
        "id": "0WrLFMPkDOii"
      },
      "source": [
        "# Compile and use Adam optimizer\n",
        "model.compile(loss='binary_crossentropy', optimizer='adam', metrics=['accuracy'])"
      ],
      "execution_count": null,
      "outputs": []
    },
    {
      "cell_type": "code",
      "metadata": {
        "id": "4dYtkSfODS-p"
      },
      "source": [
        "X_train, X_test, Y_train, Y_test = train_test_split(X, Y, test_size=0.2, random_state=0, stratify=Y)"
      ],
      "execution_count": null,
      "outputs": []
    },
    {
      "cell_type": "code",
      "metadata": {
        "colab": {
          "base_uri": "https://localhost:8080/"
        },
        "id": "C3Al-lq4DV2f",
        "outputId": "966fc8e0-2ac2-4a24-9376-5c5baee0be90"
      },
      "source": [
        "len(X_train)"
      ],
      "execution_count": null,
      "outputs": [
        {
          "output_type": "execute_result",
          "data": {
            "text/plain": [
              "312"
            ]
          },
          "metadata": {
            "tags": []
          },
          "execution_count": 63
        }
      ]
    },
    {
      "cell_type": "code",
      "metadata": {
        "colab": {
          "base_uri": "https://localhost:8080/"
        },
        "id": "D4CRWo1rDZrh",
        "outputId": "f40b3735-dda1-4b15-b87d-12de318109b7"
      },
      "source": [
        "len(X_test)"
      ],
      "execution_count": null,
      "outputs": [
        {
          "output_type": "execute_result",
          "data": {
            "text/plain": [
              "78"
            ]
          },
          "metadata": {
            "tags": []
          },
          "execution_count": 64
        }
      ]
    },
    {
      "cell_type": "markdown",
      "metadata": {
        "id": "QxA9tclQI9R0"
      },
      "source": [
        "4. Training the LSTM Model (Time Consuming)"
      ]
    },
    {
      "cell_type": "code",
      "metadata": {
        "colab": {
          "base_uri": "https://localhost:8080/"
        },
        "id": "XlavSH7bDf-H",
        "outputId": "69734929-517e-4a56-9a36-c3aea988a4f7"
      },
      "source": [
        "# Tweak batchsize and epoch\n",
        "\n",
        "model.fit(X_train, Y_train, validation_data=(X_test, Y_test), epochs = 20, batch_size = 128, shuffle=True)"
      ],
      "execution_count": null,
      "outputs": [
        {
          "output_type": "stream",
          "text": [
            "Epoch 1/20\n",
            "3/3 [==============================] - 2s 672ms/step - loss: 0.6925 - accuracy: 0.4904 - val_loss: 0.6997 - val_accuracy: 0.5000\n",
            "Epoch 2/20\n",
            "3/3 [==============================] - 0s 162ms/step - loss: 0.7167 - accuracy: 0.5032 - val_loss: 0.6918 - val_accuracy: 0.5641\n",
            "Epoch 3/20\n",
            "3/3 [==============================] - 1s 185ms/step - loss: 0.6666 - accuracy: 0.6250 - val_loss: 0.7085 - val_accuracy: 0.5000\n",
            "Epoch 4/20\n",
            "3/3 [==============================] - 1s 169ms/step - loss: 0.6645 - accuracy: 0.5513 - val_loss: 0.6956 - val_accuracy: 0.5128\n",
            "Epoch 5/20\n",
            "3/3 [==============================] - 1s 169ms/step - loss: 0.6481 - accuracy: 0.6410 - val_loss: 0.6755 - val_accuracy: 0.5256\n",
            "Epoch 6/20\n",
            "3/3 [==============================] - 0s 165ms/step - loss: 0.6265 - accuracy: 0.7019 - val_loss: 0.6723 - val_accuracy: 0.5897\n",
            "Epoch 7/20\n",
            "3/3 [==============================] - 0s 167ms/step - loss: 0.5999 - accuracy: 0.6955 - val_loss: 0.6866 - val_accuracy: 0.5641\n",
            "Epoch 8/20\n",
            "3/3 [==============================] - 1s 167ms/step - loss: 0.5615 - accuracy: 0.6987 - val_loss: 0.7610 - val_accuracy: 0.5641\n",
            "Epoch 9/20\n",
            "3/3 [==============================] - 1s 175ms/step - loss: 0.5466 - accuracy: 0.7051 - val_loss: 0.8646 - val_accuracy: 0.6026\n",
            "Epoch 10/20\n",
            "3/3 [==============================] - 0s 166ms/step - loss: 0.5302 - accuracy: 0.7147 - val_loss: 0.8732 - val_accuracy: 0.5769\n",
            "Epoch 11/20\n",
            "3/3 [==============================] - 1s 171ms/step - loss: 0.5003 - accuracy: 0.7500 - val_loss: 0.8172 - val_accuracy: 0.5513\n",
            "Epoch 12/20\n",
            "3/3 [==============================] - 1s 167ms/step - loss: 0.4955 - accuracy: 0.7532 - val_loss: 0.8223 - val_accuracy: 0.6154\n",
            "Epoch 13/20\n",
            "3/3 [==============================] - 1s 169ms/step - loss: 0.4746 - accuracy: 0.7596 - val_loss: 0.7417 - val_accuracy: 0.5897\n",
            "Epoch 14/20\n",
            "3/3 [==============================] - 1s 178ms/step - loss: 0.4605 - accuracy: 0.7981 - val_loss: 0.8191 - val_accuracy: 0.5641\n",
            "Epoch 15/20\n",
            "3/3 [==============================] - 0s 166ms/step - loss: 0.4492 - accuracy: 0.7692 - val_loss: 0.7798 - val_accuracy: 0.5641\n",
            "Epoch 16/20\n",
            "3/3 [==============================] - 1s 170ms/step - loss: 0.4213 - accuracy: 0.8077 - val_loss: 0.8954 - val_accuracy: 0.5641\n",
            "Epoch 17/20\n",
            "3/3 [==============================] - 0s 166ms/step - loss: 0.3998 - accuracy: 0.7981 - val_loss: 0.9576 - val_accuracy: 0.5769\n",
            "Epoch 18/20\n",
            "3/3 [==============================] - 1s 169ms/step - loss: 0.3871 - accuracy: 0.8365 - val_loss: 1.1229 - val_accuracy: 0.5769\n",
            "Epoch 19/20\n",
            "3/3 [==============================] - 0s 166ms/step - loss: 0.3578 - accuracy: 0.8365 - val_loss: 1.2153 - val_accuracy: 0.6154\n",
            "Epoch 20/20\n",
            "3/3 [==============================] - 0s 166ms/step - loss: 0.3276 - accuracy: 0.8526 - val_loss: 1.3681 - val_accuracy: 0.6154\n"
          ],
          "name": "stdout"
        },
        {
          "output_type": "execute_result",
          "data": {
            "text/plain": [
              "<tensorflow.python.keras.callbacks.History at 0x7f9dc7908f60>"
            ]
          },
          "metadata": {
            "tags": []
          },
          "execution_count": 65
        }
      ]
    },
    {
      "cell_type": "code",
      "metadata": {
        "id": "zdtyj_NsHwmk"
      },
      "source": [
        "\n",
        "def plot_acc_loss(history):\n",
        "\n",
        "    acc = history.history['accuracy']\n",
        "    val_acc = history.history['val_accuracy']\n",
        "    loss = history.history['loss']\n",
        "    val_loss = history.history['val_loss']\n",
        "    epochs = range(1, len(acc) + 1)\n",
        "\n",
        "    plt.plot(epochs, acc, 'bo', label = 'Training Accuracy')\n",
        "    plt.plot(epochs, val_acc, 'r', label = 'Testing Accuracy')\n",
        "    plt.title('Training and Validation Accuracy')\n",
        "    plt.xlabel('Epochs')\n",
        "    plt.ylabel('Loss')\n",
        "    plt.legend()\n",
        "\n",
        "    plt.figure()\n",
        "    plt.plot(epochs, loss, 'bo', label = 'Training Loss')\n",
        "    plt.plot(epochs, val_loss, 'r', label = 'Validation Loss')\n",
        "    plt.title('Training and Validation Loss')\n",
        "    plt.xlabel('Epochs')\n",
        "    plt.ylabel('Loss')\n",
        "    plt.legend()\n",
        "    plt.show()"
      ],
      "execution_count": null,
      "outputs": []
    },
    {
      "cell_type": "code",
      "metadata": {
        "colab": {
          "base_uri": "https://localhost:8080/",
          "height": 573
        },
        "id": "kHZkCMhoH1fp",
        "outputId": "bbc20887-88d7-4a97-b58e-79c7cfdc633f"
      },
      "source": [
        "# Plotting the obtained training and validation loss and accuracy progressions.\n",
        "plot_acc_loss(model.history)"
      ],
      "execution_count": null,
      "outputs": [
        {
          "output_type": "display_data",
          "data": {
            "image/png": "[encoded data removed]",
            "text/plain": [
              "<Figure size 432x288 with 1 Axes>"
            ]
          },
          "metadata": {
            "tags": [],
            "needs_background": "light"
          }
        },
        {
          "output_type": "display_data",
          "data": {
            "image/png": "[encoded data removed]",
            "text/plain": [
              "<Figure size 432x288 with 1 Axes>"
            ]
          },
          "metadata": {
            "tags": [],
            "needs_background": "light"
          }
        }
      ]
    },
    {
      "cell_type": "markdown",
      "metadata": {
        "id": "tpZkF4s97Jdt"
      },
      "source": [
        "**Regularization** is the process of preventing a model from over-fitting the training data.\n",
        "Dropout : randomly eliminates several (based on a parametrized percentage rate) neurons connections in the network, rendering the model less complex, and forcing the model to only look at part of a given example."
      ]
    },
    {
      "cell_type": "code",
      "metadata": {
        "colab": {
          "base_uri": "https://localhost:8080/"
        },
        "id": "l-tsN6Q3H4Tg",
        "outputId": "cdfea974-7641-4f1b-fdf9-84f9b09adf22"
      },
      "source": [
        "keras.backend.clear_session()\n",
        "\n",
        "model_dropout = Sequential()\n",
        "\n",
        "model_dropout.add(pretrained_embedding_layer(word_to_vec_map, word_to_index, max_len))\n",
        "model_dropout.add(Dropout(rate=0.4))\n",
        "model_dropout.add(Bidirectional(LSTM(units=128, return_sequences=True)))\n",
        "model_dropout.add(Dropout(rate=0.4))\n",
        "model_dropout.add(Bidirectional(LSTM(units=128, return_sequences=False)))\n",
        "model_dropout.add(Dense(units=1, activation='sigmoid'))\n",
        "\n",
        "model_dropout.summary()"
      ],
      "execution_count": null,
      "outputs": [
        {
          "output_type": "stream",
          "text": [
            "Model: \"sequential\"\n",
            "_________________________________________________________________\n",
            "Layer (type)                 Output Shape              Param #   \n",
            "=================================================================\n",
            "embedding (Embedding)        (None, 19, 50)            20000050  \n",
            "_________________________________________________________________\n",
            "dropout (Dropout)            (None, 19, 50)            0         \n",
            "_________________________________________________________________\n",
            "bidirectional (Bidirectional (None, 19, 256)           183296    \n",
            "_________________________________________________________________\n",
            "dropout_1 (Dropout)          (None, 19, 256)           0         \n",
            "_________________________________________________________________\n",
            "bidirectional_1 (Bidirection (None, 256)               394240    \n",
            "_________________________________________________________________\n",
            "dense (Dense)                (None, 1)                 257       \n",
            "=================================================================\n",
            "Total params: 20,577,843\n",
            "Trainable params: 577,793\n",
            "Non-trainable params: 20,000,050\n",
            "_________________________________________________________________\n"
          ],
          "name": "stdout"
        }
      ]
    },
    {
      "cell_type": "code",
      "metadata": {
        "id": "peI1H2XwH7dh"
      },
      "source": [
        "model_dropout.compile(loss='binary_crossentropy', optimizer='adam', metrics=['accuracy'])"
      ],
      "execution_count": null,
      "outputs": []
    },
    {
      "cell_type": "markdown",
      "metadata": {
        "id": "L7MTnrBMgyDt"
      },
      "source": [
        "Week 4 : Regularization"
      ]
    },
    {
      "cell_type": "code",
      "metadata": {
        "colab": {
          "base_uri": "https://localhost:8080/"
        },
        "id": "qagxTYWsH9up",
        "outputId": "d652cc4a-38f2-4442-a3db-2376be1ab75a"
      },
      "source": [
        "model_dropout.fit(X_train, Y_train, validation_data=(X_test, Y_test), epochs = 20, batch_size = 128, shuffle=True)"
      ],
      "execution_count": null,
      "outputs": [
        {
          "output_type": "stream",
          "text": [
            "Epoch 1/20\n",
            "3/3 [==============================] - 2s 592ms/step - loss: 0.6933 - accuracy: 0.5192 - val_loss: 0.6809 - val_accuracy: 0.6154\n",
            "Epoch 2/20\n",
            "3/3 [==============================] - 1s 169ms/step - loss: 0.6754 - accuracy: 0.5962 - val_loss: 0.6760 - val_accuracy: 0.6282\n",
            "Epoch 3/20\n",
            "3/3 [==============================] - 1s 173ms/step - loss: 0.6618 - accuracy: 0.6122 - val_loss: 0.6783 - val_accuracy: 0.5769\n",
            "Epoch 4/20\n",
            "3/3 [==============================] - 1s 173ms/step - loss: 0.6488 - accuracy: 0.6538 - val_loss: 0.6630 - val_accuracy: 0.6795\n",
            "Epoch 5/20\n",
            "3/3 [==============================] - 1s 172ms/step - loss: 0.6190 - accuracy: 0.6538 - val_loss: 0.6723 - val_accuracy: 0.6410\n",
            "Epoch 6/20\n",
            "3/3 [==============================] - 1s 170ms/step - loss: 0.6470 - accuracy: 0.6058 - val_loss: 0.6741 - val_accuracy: 0.6154\n",
            "Epoch 7/20\n",
            "3/3 [==============================] - 1s 167ms/step - loss: 0.6063 - accuracy: 0.6538 - val_loss: 0.6975 - val_accuracy: 0.6410\n",
            "Epoch 8/20\n",
            "3/3 [==============================] - 1s 172ms/step - loss: 0.6003 - accuracy: 0.6667 - val_loss: 0.6782 - val_accuracy: 0.6410\n",
            "Epoch 9/20\n",
            "3/3 [==============================] - 1s 171ms/step - loss: 0.5957 - accuracy: 0.6603 - val_loss: 0.7017 - val_accuracy: 0.6282\n",
            "Epoch 10/20\n",
            "3/3 [==============================] - 1s 176ms/step - loss: 0.6121 - accuracy: 0.6282 - val_loss: 0.7001 - val_accuracy: 0.6282\n",
            "Epoch 11/20\n",
            "3/3 [==============================] - 1s 175ms/step - loss: 0.5952 - accuracy: 0.6731 - val_loss: 0.6857 - val_accuracy: 0.5513\n",
            "Epoch 12/20\n",
            "3/3 [==============================] - 1s 174ms/step - loss: 0.5767 - accuracy: 0.6731 - val_loss: 0.6977 - val_accuracy: 0.6026\n",
            "Epoch 13/20\n",
            "3/3 [==============================] - 1s 167ms/step - loss: 0.5554 - accuracy: 0.7115 - val_loss: 0.6924 - val_accuracy: 0.5769\n",
            "Epoch 14/20\n",
            "3/3 [==============================] - 1s 168ms/step - loss: 0.5410 - accuracy: 0.7051 - val_loss: 0.7122 - val_accuracy: 0.5897\n",
            "Epoch 15/20\n",
            "3/3 [==============================] - 1s 172ms/step - loss: 0.5362 - accuracy: 0.6987 - val_loss: 0.7712 - val_accuracy: 0.5513\n",
            "Epoch 16/20\n",
            "3/3 [==============================] - 1s 172ms/step - loss: 0.5384 - accuracy: 0.7212 - val_loss: 0.7784 - val_accuracy: 0.5641\n",
            "Epoch 17/20\n",
            "3/3 [==============================] - 1s 168ms/step - loss: 0.5663 - accuracy: 0.6699 - val_loss: 0.7420 - val_accuracy: 0.5897\n",
            "Epoch 18/20\n",
            "3/3 [==============================] - 1s 168ms/step - loss: 0.5392 - accuracy: 0.7276 - val_loss: 0.7130 - val_accuracy: 0.5256\n",
            "Epoch 19/20\n",
            "3/3 [==============================] - 1s 169ms/step - loss: 0.5431 - accuracy: 0.6987 - val_loss: 0.6998 - val_accuracy: 0.5256\n",
            "Epoch 20/20\n",
            "3/3 [==============================] - 1s 172ms/step - loss: 0.5326 - accuracy: 0.6987 - val_loss: 0.6841 - val_accuracy: 0.6026\n"
          ],
          "name": "stdout"
        },
        {
          "output_type": "execute_result",
          "data": {
            "text/plain": [
              "<tensorflow.python.keras.callbacks.History at 0x7f9d8bc7bfd0>"
            ]
          },
          "metadata": {
            "tags": []
          },
          "execution_count": 73
        }
      ]
    },
    {
      "cell_type": "code",
      "metadata": {
        "colab": {
          "base_uri": "https://localhost:8080/",
          "height": 573
        },
        "id": "MmtfIUYCH_hP",
        "outputId": "31c8815a-af87-4375-8dde-c040bafd33fb"
      },
      "source": [
        "plot_acc_loss(model_dropout.history)"
      ],
      "execution_count": null,
      "outputs": [
        {
          "output_type": "display_data",
          "data": {
            "image/png": "[encoded data removed]",
            "text/plain": [
              "<Figure size 432x288 with 1 Axes>"
            ]
          },
          "metadata": {
            "tags": [],
            "needs_background": "light"
          }
        },
        {
          "output_type": "display_data",
          "data": {
            "image/png": "[encoded data removed]",
            "text/plain": [
              "<Figure size 432x288 with 1 Axes>"
            ]
          },
          "metadata": {
            "tags": [],
            "needs_background": "light"
          }
        }
      ]
    },
    {
      "cell_type": "code",
      "metadata": {
        "colab": {
          "base_uri": "https://localhost:8080/"
        },
        "id": "j3D6Q3fsIBeQ",
        "outputId": "691d25cf-508f-473c-ac0b-ae4ee567aa41"
      },
      "source": [
        "model_dropout.fit(X_train, Y_train, validation_data=(X_test, Y_test), epochs = 20, batch_size = 128, shuffle=True)"
      ],
      "execution_count": null,
      "outputs": [
        {
          "output_type": "stream",
          "text": [
            "Epoch 1/20\n",
            "3/3 [==============================] - 1s 185ms/step - loss: 0.5622 - accuracy: 0.6987 - val_loss: 0.7093 - val_accuracy: 0.5513\n",
            "Epoch 2/20\n",
            "3/3 [==============================] - 1s 167ms/step - loss: 0.4946 - accuracy: 0.7500 - val_loss: 0.7676 - val_accuracy: 0.5128\n",
            "Epoch 3/20\n",
            "3/3 [==============================] - 1s 168ms/step - loss: 0.5050 - accuracy: 0.7340 - val_loss: 0.7623 - val_accuracy: 0.5641\n",
            "Epoch 4/20\n",
            "3/3 [==============================] - 1s 169ms/step - loss: 0.5371 - accuracy: 0.7212 - val_loss: 0.7529 - val_accuracy: 0.5513\n",
            "Epoch 5/20\n",
            "3/3 [==============================] - 1s 174ms/step - loss: 0.4846 - accuracy: 0.7564 - val_loss: 0.8162 - val_accuracy: 0.5385\n",
            "Epoch 6/20\n",
            "3/3 [==============================] - 1s 171ms/step - loss: 0.5190 - accuracy: 0.7179 - val_loss: 0.7079 - val_accuracy: 0.5641\n",
            "Epoch 7/20\n",
            "3/3 [==============================] - 1s 172ms/step - loss: 0.4832 - accuracy: 0.7788 - val_loss: 0.7165 - val_accuracy: 0.5769\n",
            "Epoch 8/20\n",
            "3/3 [==============================] - 1s 172ms/step - loss: 0.4621 - accuracy: 0.7628 - val_loss: 0.8001 - val_accuracy: 0.5385\n",
            "Epoch 9/20\n",
            "3/3 [==============================] - 1s 169ms/step - loss: 0.4644 - accuracy: 0.7692 - val_loss: 0.8128 - val_accuracy: 0.5385\n",
            "Epoch 10/20\n",
            "3/3 [==============================] - 1s 170ms/step - loss: 0.4285 - accuracy: 0.7981 - val_loss: 0.8055 - val_accuracy: 0.5256\n",
            "Epoch 11/20\n",
            "3/3 [==============================] - 1s 169ms/step - loss: 0.4246 - accuracy: 0.8045 - val_loss: 0.7930 - val_accuracy: 0.5641\n",
            "Epoch 12/20\n",
            "3/3 [==============================] - 1s 173ms/step - loss: 0.4341 - accuracy: 0.7821 - val_loss: 0.7626 - val_accuracy: 0.5641\n",
            "Epoch 13/20\n",
            "3/3 [==============================] - 1s 169ms/step - loss: 0.4541 - accuracy: 0.7628 - val_loss: 0.7946 - val_accuracy: 0.5897\n",
            "Epoch 14/20\n",
            "3/3 [==============================] - 1s 174ms/step - loss: 0.4069 - accuracy: 0.8045 - val_loss: 0.7556 - val_accuracy: 0.5385\n",
            "Epoch 15/20\n",
            "3/3 [==============================] - 1s 172ms/step - loss: 0.4067 - accuracy: 0.7821 - val_loss: 0.8410 - val_accuracy: 0.6154\n",
            "Epoch 16/20\n",
            "3/3 [==============================] - 1s 172ms/step - loss: 0.3868 - accuracy: 0.8205 - val_loss: 0.7768 - val_accuracy: 0.5897\n",
            "Epoch 17/20\n",
            "3/3 [==============================] - 1s 172ms/step - loss: 0.3766 - accuracy: 0.8590 - val_loss: 0.8188 - val_accuracy: 0.6026\n",
            "Epoch 18/20\n",
            "3/3 [==============================] - 1s 169ms/step - loss: 0.4171 - accuracy: 0.8077 - val_loss: 0.7644 - val_accuracy: 0.6410\n",
            "Epoch 19/20\n",
            "3/3 [==============================] - 1s 168ms/step - loss: 0.3784 - accuracy: 0.8301 - val_loss: 0.6908 - val_accuracy: 0.5769\n",
            "Epoch 20/20\n",
            "3/3 [==============================] - 1s 172ms/step - loss: 0.3323 - accuracy: 0.8494 - val_loss: 0.7389 - val_accuracy: 0.6154\n"
          ],
          "name": "stdout"
        },
        {
          "output_type": "execute_result",
          "data": {
            "text/plain": [
              "<tensorflow.python.keras.callbacks.History at 0x7f9d89b345c0>"
            ]
          },
          "metadata": {
            "tags": []
          },
          "execution_count": 75
        }
      ]
    },
    {
      "cell_type": "code",
      "metadata": {
        "colab": {
          "base_uri": "https://localhost:8080/",
          "height": 573
        },
        "id": "PlZKaooPIDSo",
        "outputId": "67445daa-bb79-43cd-e342-2886184a8cea"
      },
      "source": [
        "plot_acc_loss(model_dropout.history)"
      ],
      "execution_count": null,
      "outputs": [
        {
          "output_type": "display_data",
          "data": {
            "image/png": "[encoded data removed]",
            "text/plain": [
              "<Figure size 432x288 with 1 Axes>"
            ]
          },
          "metadata": {
            "tags": [],
            "needs_background": "light"
          }
        },
        {
          "output_type": "display_data",
          "data": {
            "image/png": "[encoded data removed]",
            "text/plain": [
              "<Figure size 432x288 with 1 Axes>"
            ]
          },
          "metadata": {
            "tags": [],
            "needs_background": "light"
          }
        }
      ]
    },
    {
      "cell_type": "code",
      "metadata": {
        "colab": {
          "base_uri": "https://localhost:8080/"
        },
        "id": "gMk8hdEiIFI1",
        "outputId": "d146e9a0-8ef3-4e4d-f02c-83e7ace3ab9a"
      },
      "source": [
        "unk = word_to_index['unk']\n",
        "\n",
        "n_unk_words = 0\n",
        "\n",
        "for x in X:\n",
        "    for y in x:\n",
        "        if y == unk:\n",
        "            n_unk_words += 1\n",
        "\n",
        "n_unk_words"
      ],
      "execution_count": null,
      "outputs": [
        {
          "output_type": "execute_result",
          "data": {
            "text/plain": [
              "193"
            ]
          },
          "metadata": {
            "tags": []
          },
          "execution_count": 77
        }
      ]
    },
    {
      "cell_type": "code",
      "metadata": {
        "colab": {
          "base_uri": "https://localhost:8080/"
        },
        "id": "8wMA29hHIHvz",
        "outputId": "7a419d5a-9079-4e05-8625-59545a931fc6"
      },
      "source": [
        "len(unks)"
      ],
      "execution_count": null,
      "outputs": [
        {
          "output_type": "execute_result",
          "data": {
            "text/plain": [
              "193"
            ]
          },
          "metadata": {
            "tags": []
          },
          "execution_count": 78
        }
      ]
    },
    {
      "cell_type": "code",
      "metadata": {
        "colab": {
          "base_uri": "https://localhost:8080/"
        },
        "id": "mCFIaTO6IJ2f",
        "outputId": "601a4b50-7f15-4e7a-becc-8fece276bfc7"
      },
      "source": [
        "len(UNKS)"
      ],
      "execution_count": null,
      "outputs": [
        {
          "output_type": "execute_result",
          "data": {
            "text/plain": [
              "216"
            ]
          },
          "metadata": {
            "tags": []
          },
          "execution_count": 79
        }
      ]
    },
    {
      "cell_type": "code",
      "metadata": {
        "colab": {
          "base_uri": "https://localhost:8080/"
        },
        "id": "5bKYUCy2INdm",
        "outputId": "c8f2480b-16a1-4bcc-efb0-30bb2cbadcf0"
      },
      "source": [
        "from collections import Counter\n",
        "Counter(unks).most_common(50)"
      ],
      "execution_count": null,
      "outputs": [
        {
          "output_type": "execute_result",
          "data": {
            "text/plain": [
              "[(\"i'm\", 40),\n",
              " (\"can't\", 13),\n",
              " (\"that's\", 7),\n",
              " (\"i'l\", 6),\n",
              " (\"i've\", 5),\n",
              " (\"he's\", 3),\n",
              " ('hahaha', 3),\n",
              " ('ihad', 2),\n",
              " (\"there's\", 2),\n",
              " ('b-day', 2),\n",
              " ('besties', 1),\n",
              " ('sunisa', 1),\n",
              " ('thans', 1),\n",
              " (\"acm's\", 1),\n",
              " ('<lol>', 1),\n",
              " ('gumaling', 1),\n",
              " ('makakasama', 1),\n",
              " ('bacn', 1),\n",
              " ('folowinq', 1),\n",
              " ('kiteh', 1),\n",
              " ('slushie', 1),\n",
              " ('indowebster', 1),\n",
              " ('ryt', 1),\n",
              " ('sheldawg', 1),\n",
              " (\"bufy's\", 1),\n",
              " ('#devunity', 1),\n",
              " ('->', 1),\n",
              " ('twetland', 1),\n",
              " (';-p', 1),\n",
              " ('nodlebox', 1),\n",
              " ('2982378', 1),\n",
              " ('losiento', 1),\n",
              " ('#alexa', 1),\n",
              " ('geking', 1),\n",
              " ('spacecowboy', 1),\n",
              " ('clubzone', 1),\n",
              " ('hithavaru', 1),\n",
              " ('ninage', 1),\n",
              " ('movarolage', 1),\n",
              " ('oach', 1),\n",
              " (\"what'd\", 1),\n",
              " ('shenagians', 1),\n",
              " (\"we're\", 1),\n",
              " (\"it'l\", 1),\n",
              " ('nkow', 1),\n",
              " ('paris-roubaix', 1),\n",
              " ('holidayholiday', 1),\n",
              " ('knighty', 1),\n",
              " ('nitey', 1),\n",
              " (\"here's\", 1)]"
            ]
          },
          "metadata": {
            "tags": []
          },
          "execution_count": 80
        }
      ]
    },
    {
      "cell_type": "code",
      "metadata": {
        "colab": {
          "base_uri": "https://localhost:8080/"
        },
        "id": "kDGPfg9lIN-3",
        "outputId": "c4cc1cad-140e-4fab-a72c-5bf9546a85f3"
      },
      "source": [
        "\n",
        "def cleaned(token):\n",
        "    if token == 'u':\n",
        "        return 'you'\n",
        "    if token == 'r':\n",
        "        return 'are'\n",
        "    if token == 'some1':\n",
        "        return 'someone'\n",
        "    if token == 'yrs':\n",
        "        return 'years'\n",
        "    if token == 'hrs':\n",
        "        return 'hours'\n",
        "    if token == 'mins':\n",
        "        return 'minutes'\n",
        "    if token == 'secs':\n",
        "        return 'seconds'\n",
        "    if token == 'pls' or token == 'plz':\n",
        "        return 'please'\n",
        "    if token == '2morow' or token == '2moro':\n",
        "        return 'tomorrow'\n",
        "    if token == '2day':\n",
        "        return 'today'\n",
        "    if token == '4got' or token == '4gotten':\n",
        "        return 'forget'\n",
        "    if token in ['hahah', 'hahaha', 'hahahaha']:\n",
        "        return 'haha'\n",
        "    if token == \"mother's\":\n",
        "        return \"mother\"\n",
        "    if token == \"mom's\":\n",
        "        return \"mom\"\n",
        "    if token == \"dad's\":\n",
        "        return \"dad\"\n",
        "    if token == 'bday' or token == 'b-day':\n",
        "        return 'birthday'\n",
        "    if token in [\"i'm\", \"don't\", \"can't\", \"couldn't\", \"aren't\", \"wouldn't\", \"isn't\", \"didn't\", \"hadn't\",\n",
        "                 \"doesn't\", \"won't\", \"haven't\", \"wasn't\", \"hasn't\", \"shouldn't\", \"ain't\", \"they've\"]:\n",
        "        return token.replace(\"'\", \"\")\n",
        "    if token in ['lmao', 'lolz', 'rofl']:\n",
        "        return 'lol'\n",
        "    if token == '<3':\n",
        "        return 'love'\n",
        "    if token == 'thanx' or token == 'thnx':\n",
        "        return 'thanks'\n",
        "    if token == 'goood':\n",
        "        return 'good'\n",
        "    if token in ['amp', 'quot', 'lt', 'gt', '½25', '..', '. .', '. . .']:\n",
        "        return ''\n",
        "    return token\n",
        "\n",
        "\n",
        "# This function will be our all-in-one noise removal function\n",
        "def remove_noise(tweet_tokens):\n",
        "\n",
        "    cleaned_tokens = []\n",
        "\n",
        "    for token in tweet_tokens:\n",
        "        # Eliminating the token if it is a link\n",
        "        token = re.sub(r'''(?i)\\b((?:https?://|www\\d{0,3}[.]|[a-z0-9.\\-]+[.][a-z]{2,4}/)(?:[^\\s()<>]+|\\(([^\\s()<>]+|(\\([^\\s()<>]+\\)))*\\))+(?:\\(([^\\s()<>]+|(\\([^\\s()<>]+\\)))*\\)|[^\\s`!()\\[\\]{};:'\".,<>?«»“”‘’]))''', \" \", token)\n",
        "        # Eliminating the token if it is a mention\n",
        "        token = re.sub(\"(@[A-Za-z0-9_]+)\",\"\", token)\n",
        "        \n",
        "        cleaned_token = cleaned(token.lower())\n",
        "        \n",
        "        if cleaned_token == \"idk\":\n",
        "            cleaned_tokens.append('i')\n",
        "            cleaned_tokens.append('dont')\n",
        "            cleaned_tokens.append('know')\n",
        "            continue\n",
        "        if cleaned_token == \"i'll\":\n",
        "            cleaned_tokens.append('i')\n",
        "            cleaned_tokens.append('will')\n",
        "            continue\n",
        "        if cleaned_token == \"you'll\":\n",
        "            cleaned_tokens.append('you')\n",
        "            cleaned_tokens.append('will')\n",
        "            continue\n",
        "        if cleaned_token == \"we'll\":\n",
        "            cleaned_tokens.append('we')\n",
        "            cleaned_tokens.append('will')\n",
        "            continue\n",
        "        if cleaned_token == \"it'll\":\n",
        "            cleaned_tokens.append('it')\n",
        "            cleaned_tokens.append('will')\n",
        "            continue\n",
        "        if cleaned_token == \"it's\":\n",
        "            cleaned_tokens.append('it')\n",
        "            cleaned_tokens.append('is')\n",
        "            continue\n",
        "        if cleaned_token == \"i've\":\n",
        "            cleaned_tokens.append('i')\n",
        "            cleaned_tokens.append('have')\n",
        "            continue\n",
        "        if cleaned_token == \"you've\":\n",
        "            cleaned_tokens.append('you')\n",
        "            cleaned_tokens.append('have')\n",
        "            continue\n",
        "        if cleaned_token == \"we've\":\n",
        "            cleaned_tokens.append('we')\n",
        "            cleaned_tokens.append('have')\n",
        "            continue\n",
        "        if cleaned_token == \"they've\":\n",
        "            cleaned_tokens.append('they')\n",
        "            cleaned_tokens.append('have')\n",
        "            continue\n",
        "        if cleaned_token == \"you're\":\n",
        "            cleaned_tokens.append('you')\n",
        "            cleaned_tokens.append('are')\n",
        "            continue\n",
        "        if cleaned_token == \"we're\":\n",
        "            cleaned_tokens.append('we')\n",
        "            cleaned_tokens.append('are')\n",
        "            continue\n",
        "        if cleaned_token == \"they're\":\n",
        "            cleaned_tokens.append('they')\n",
        "            cleaned_tokens.append('are')\n",
        "            continue\n",
        "        if cleaned_token == \"let's\":\n",
        "            cleaned_tokens.append('let')\n",
        "            cleaned_tokens.append('us')\n",
        "            continue\n",
        "        if cleaned_token == \"she's\":\n",
        "            cleaned_tokens.append('she')\n",
        "            cleaned_tokens.append('is')\n",
        "            continue\n",
        "        if cleaned_token == \"he's\":\n",
        "            cleaned_tokens.append('he')\n",
        "            cleaned_tokens.append('is')\n",
        "            continue\n",
        "        if cleaned_token == \"that's\":\n",
        "            cleaned_tokens.append('that')\n",
        "            cleaned_tokens.append('is')\n",
        "            continue\n",
        "        if cleaned_token == \"i'd\":\n",
        "            cleaned_tokens.append('i')\n",
        "            cleaned_tokens.append('would')\n",
        "            continue\n",
        "        if cleaned_token == \"you'd\":\n",
        "            cleaned_tokens.append('you')\n",
        "            cleaned_tokens.append('would')\n",
        "            continue\n",
        "        if cleaned_token == \"there's\":\n",
        "            cleaned_tokens.append('there')\n",
        "            cleaned_tokens.append('is')\n",
        "            continue\n",
        "        if cleaned_token == \"what's\":\n",
        "            cleaned_tokens.append('what')\n",
        "            cleaned_tokens.append('is')\n",
        "            continue\n",
        "        if cleaned_token == \"how's\":\n",
        "            cleaned_tokens.append('how')\n",
        "            cleaned_tokens.append('is')\n",
        "            continue\n",
        "        if cleaned_token == \"who's\":\n",
        "            cleaned_tokens.append('who')\n",
        "            cleaned_tokens.append('is')\n",
        "            continue\n",
        "        if cleaned_token == \"y'all\" or cleaned_token == \"ya'll\":\n",
        "            cleaned_tokens.append('you')\n",
        "            cleaned_tokens.append('all')\n",
        "            continue\n",
        "\n",
        "        if cleaned_token.strip() and cleaned_token not in string.punctuation: \n",
        "            cleaned_tokens.append(cleaned_token)\n",
        "            \n",
        "    return cleaned_tokens\n",
        "\n",
        "\n",
        "# Prevewing the remove_noise() output\n",
        "print(remove_noise(data[0][0]))"
      ],
      "execution_count": null,
      "outputs": [
        {
          "output_type": "stream",
          "text": [
            "['i', 'love', 'you', 'guys', 'are', 'the', 'best']\n"
          ],
          "name": "stdout"
        }
      ]
    },
    {
      "cell_type": "code",
      "metadata": {
        "colab": {
          "base_uri": "https://localhost:8080/"
        },
        "id": "5Ml0gR9EIQ-4",
        "outputId": "3cf30a2e-d649-44ec-db07-a03aa74a2a69"
      },
      "source": [
        "start_time = time()\n",
        "\n",
        "unks = []\n",
        "UNKS = []\n",
        "\n",
        "def cleared(word):\n",
        "    res = \"\"\n",
        "    prev = None\n",
        "    for char in word:\n",
        "        if char == prev: continue\n",
        "        prev = char\n",
        "        res += char\n",
        "    return res\n",
        "\n",
        "def sentence_to_indices(sentence_words, word_to_index, max_len, i):\n",
        "    global X, Y\n",
        "    sentence_indices = []\n",
        "    for j, w in enumerate(sentence_words):\n",
        "        try:\n",
        "            index = word_to_index[w]\n",
        "        except:\n",
        "            UNKS.append(w)\n",
        "            w = cleared(w)\n",
        "            try:\n",
        "                index = word_to_index[w]\n",
        "            except:\n",
        "                index = word_to_index['unk']\n",
        "                unks.append(w)\n",
        "        X[i, j] = index\n",
        "\n",
        "cleaned_tokens_list = []\n",
        "\n",
        "# Removing noise from all the data, using the newly defined function\n",
        "for tokens, label in data:\n",
        "    x = remove_noise(tokens)\n",
        "    if x:\n",
        "        cleaned_tokens_list.append((x, label))\n",
        "\n",
        "print('Removed Noise, CPU Time:', time() - start_time)\n",
        "start_time = time()\n",
        "\n",
        "list_len = [len(i) for i, j in cleaned_tokens_list]\n",
        "max_len = max(list_len)\n",
        "print('max_len:', max_len)\n",
        "\n",
        "\n",
        "X = np.zeros((len(cleaned_tokens_list), max_len))\n",
        "Y = np.zeros((len(cleaned_tokens_list), ))\n",
        "\n",
        "\n",
        "for i, tk_lb in enumerate(cleaned_tokens_list):\n",
        "    tokens, label = tk_lb\n",
        "    sentence_to_indices(tokens, word_to_index, max_len, i)\n",
        "    Y[i] = label\n",
        "    \n",
        "print('Data Prepared for model, CPU Time:', time() - start_time)\n",
        "\n",
        "\n",
        "print(X[:5])\n",
        "print(Y[:5])"
      ],
      "execution_count": null,
      "outputs": [
        {
          "output_type": "stream",
          "text": [
            "Removed Noise, CPU Time: 0.025955915451049805\n",
            "max_len: 29\n",
            "Data Prepared for model, CPU Time: 0.004152059555053711\n",
            "[[185457. 226278. 394475. 169754.  58997. 357266.  74390.      0.      0.\n",
            "       0.      0.      0.      0.      0.      0.      0.      0.      0.\n",
            "       0.      0.      0.      0.      0.      0.      0.      0.      0.\n",
            "       0.      0.]\n",
            " [187631. 239792. 373317. 388711. 269953. 268046. 254258. 372306. 361859.\n",
            "   91041. 382320. 161844. 352214.      0.      0.      0.      0.      0.\n",
            "       0.      0.      0.      0.      0.      0.      0.      0.      0.\n",
            "       0.      0.]\n",
            " [357161. 151349. 357266. 368306.  46173. 372306. 185457. 164934. 360915.\n",
            "  239785. 394475. 269889.  62065.  43010. 179025. 329974. 177231. 188481.\n",
            "  357266. 118061.  58999.  54718. 394475. 385664.  43010. 349437.      0.\n",
            "       0.      0.]\n",
            " [ 72182. 330826.  90548.  71090. 302352.  97698. 386424. 193716. 184338.\n",
            "  361940. 251645. 360915. 132701. 302292. 151204. 286963. 394565. 154060.\n",
            "  231458. 394475. 338210.      0.      0.      0.      0.      0.      0.\n",
            "       0.      0.]\n",
            " [175199. 174032. 357212. 133896. 269798. 141948.      0.      0.      0.\n",
            "       0.      0.      0.      0.      0.      0.      0.      0.      0.\n",
            "       0.      0.      0.      0.      0.      0.      0.      0.      0.\n",
            "       0.      0.]]\n",
            "[1. 1. 1. 1. 1.]\n"
          ],
          "name": "stdout"
        }
      ]
    },
    {
      "cell_type": "code",
      "metadata": {
        "colab": {
          "base_uri": "https://localhost:8080/"
        },
        "id": "hYB89jiBIVTz",
        "outputId": "57ae2a37-0405-41aa-e10d-c2b889dc13dc"
      },
      "source": [
        "unk = word_to_index['unk']\n",
        "\n",
        "n_unk_words = 0\n",
        "\n",
        "for x in X:\n",
        "    for y in x:\n",
        "        if y == unk:\n",
        "            n_unk_words += 1\n",
        "\n",
        "n_unk_words"
      ],
      "execution_count": null,
      "outputs": [
        {
          "output_type": "execute_result",
          "data": {
            "text/plain": [
              "105"
            ]
          },
          "metadata": {
            "tags": []
          },
          "execution_count": 84
        }
      ]
    },
    {
      "cell_type": "code",
      "metadata": {
        "colab": {
          "base_uri": "https://localhost:8080/"
        },
        "id": "3FNh1z9EIXUa",
        "outputId": "2c418093-d0f3-4186-8a50-1896c68b9405"
      },
      "source": [
        "# Counts the most common words and represent in a tuple.\n",
        "from collections import Counter\n",
        "Counter(unks).most_common(50)"
      ],
      "execution_count": null,
      "outputs": [
        {
          "output_type": "execute_result",
          "data": {
            "text/plain": [
              "[('ihad', 2),\n",
              " ('besties', 1),\n",
              " ('sunisa', 1),\n",
              " ('thans', 1),\n",
              " (\"acm's\", 1),\n",
              " ('<lol>', 1),\n",
              " ('gumaling', 1),\n",
              " ('makakasama', 1),\n",
              " ('bacn', 1),\n",
              " ('folowinq', 1),\n",
              " ('kiteh', 1),\n",
              " ('=/', 1),\n",
              " ('slushie', 1),\n",
              " ('indowebster', 1),\n",
              " ('ryt', 1),\n",
              " ('sheldawg', 1),\n",
              " (\"bufy's\", 1),\n",
              " ('#devunity', 1),\n",
              " ('->', 1),\n",
              " ('twetland', 1),\n",
              " (';-p', 1),\n",
              " ('nodlebox', 1),\n",
              " ('2982378', 1),\n",
              " ('losiento', 1),\n",
              " ('#alexa', 1),\n",
              " ('geking', 1),\n",
              " ('spacecowboy', 1),\n",
              " ('clubzone', 1),\n",
              " ('hithavaru', 1),\n",
              " ('ninage', 1),\n",
              " ('movarolage', 1),\n",
              " ('oach', 1),\n",
              " (\"what'd\", 1),\n",
              " ('shenagians', 1),\n",
              " ('nkow', 1),\n",
              " ('paris-roubaix', 1),\n",
              " ('holidayholiday', 1),\n",
              " ('knighty', 1),\n",
              " ('nitey', 1),\n",
              " (\"here's\", 1),\n",
              " ('overitnow', 1),\n",
              " ('#japan', 1),\n",
              " ('#skype', 1),\n",
              " ('mo-old', 1),\n",
              " ('youï', 1),\n",
              " ('½re', 1),\n",
              " ('manies', 1),\n",
              " ('pedies', 1),\n",
              " ('frezer-worthy', 1),\n",
              " ('#expletives', 1)]"
            ]
          },
          "metadata": {
            "tags": []
          },
          "execution_count": 85
        }
      ]
    },
    {
      "cell_type": "code",
      "metadata": {
        "colab": {
          "base_uri": "https://localhost:8080/"
        },
        "id": "0VL-FHDUIZ7Q",
        "outputId": "bba94e7e-f35f-4fe7-b52a-a85a7be34101"
      },
      "source": [
        "keras.backend.clear_session()\n",
        "\n",
        "model_clean_data = Sequential()\n",
        "\n",
        "model_clean_data.add(pretrained_embedding_layer(word_to_vec_map, word_to_index, max_len))\n",
        "model_clean_data.add(Bidirectional(LSTM(units=128, return_sequences=True)))\n",
        "model_clean_data.add(Bidirectional(LSTM(units=128, return_sequences=False)))\n",
        "model_clean_data.add(Dense(units=1, activation='sigmoid'))\n",
        "\n",
        "model_clean_data.summary()"
      ],
      "execution_count": null,
      "outputs": [
        {
          "output_type": "stream",
          "text": [
            "Model: \"sequential\"\n",
            "_________________________________________________________________\n",
            "Layer (type)                 Output Shape              Param #   \n",
            "=================================================================\n",
            "embedding (Embedding)        (None, 29, 50)            20000050  \n",
            "_________________________________________________________________\n",
            "bidirectional (Bidirectional (None, 29, 256)           183296    \n",
            "_________________________________________________________________\n",
            "bidirectional_1 (Bidirection (None, 256)               394240    \n",
            "_________________________________________________________________\n",
            "dense (Dense)                (None, 1)                 257       \n",
            "=================================================================\n",
            "Total params: 20,577,843\n",
            "Trainable params: 577,793\n",
            "Non-trainable params: 20,000,050\n",
            "_________________________________________________________________\n"
          ],
          "name": "stdout"
        }
      ]
    },
    {
      "cell_type": "code",
      "metadata": {
        "id": "qa6Xu0z1Ie_j"
      },
      "source": [
        "model_clean_data.compile(loss='binary_crossentropy', optimizer='adam', metrics=['accuracy'])"
      ],
      "execution_count": null,
      "outputs": []
    },
    {
      "cell_type": "code",
      "metadata": {
        "id": "I2zNbBH2Ihit"
      },
      "source": [
        "X_train, X_test, Y_train, Y_test = train_test_split(X, Y, test_size=0.2, random_state=0, stratify=Y)"
      ],
      "execution_count": null,
      "outputs": []
    },
    {
      "cell_type": "code",
      "metadata": {
        "colab": {
          "base_uri": "https://localhost:8080/"
        },
        "id": "OuLZz8oFIjZv",
        "outputId": "fd9dd15b-15b0-4231-c66e-83f3ea5c9b5f"
      },
      "source": [
        "len(X_train)"
      ],
      "execution_count": null,
      "outputs": [
        {
          "output_type": "execute_result",
          "data": {
            "text/plain": [
              "312"
            ]
          },
          "metadata": {
            "tags": []
          },
          "execution_count": 89
        }
      ]
    },
    {
      "cell_type": "code",
      "metadata": {
        "colab": {
          "base_uri": "https://localhost:8080/"
        },
        "id": "QevatDK0ImAF",
        "outputId": "20bd4a50-39c0-456b-b90f-953f8e75573e"
      },
      "source": [
        "len(X_test)"
      ],
      "execution_count": null,
      "outputs": [
        {
          "output_type": "execute_result",
          "data": {
            "text/plain": [
              "78"
            ]
          },
          "metadata": {
            "tags": []
          },
          "execution_count": 90
        }
      ]
    },
    {
      "cell_type": "code",
      "metadata": {
        "colab": {
          "base_uri": "https://localhost:8080/"
        },
        "id": "QYqat31rIpft",
        "outputId": "94bae5eb-11f6-4a06-a758-4b297b51a216"
      },
      "source": [
        "model_clean_data.fit(X_train, Y_train, validation_data=(X_test, Y_test), epochs = 20, batch_size = 128, shuffle=True)"
      ],
      "execution_count": null,
      "outputs": [
        {
          "output_type": "stream",
          "text": [
            "Epoch 1/20\n",
            "3/3 [==============================] - 1s 236ms/step - loss: 0.2805 - accuracy: 0.8814 - val_loss: 1.1106 - val_accuracy: 0.5641\n",
            "Epoch 2/20\n",
            "3/3 [==============================] - 1s 227ms/step - loss: 0.2417 - accuracy: 0.9038 - val_loss: 1.2720 - val_accuracy: 0.5641\n",
            "Epoch 3/20\n",
            "3/3 [==============================] - 1s 225ms/step - loss: 0.2143 - accuracy: 0.9199 - val_loss: 1.2934 - val_accuracy: 0.5769\n",
            "Epoch 4/20\n",
            "3/3 [==============================] - 1s 229ms/step - loss: 0.2036 - accuracy: 0.9135 - val_loss: 1.3772 - val_accuracy: 0.5513\n",
            "Epoch 5/20\n",
            "3/3 [==============================] - 1s 223ms/step - loss: 0.1630 - accuracy: 0.9423 - val_loss: 1.5740 - val_accuracy: 0.5641\n",
            "Epoch 6/20\n",
            "3/3 [==============================] - 1s 229ms/step - loss: 0.1677 - accuracy: 0.9231 - val_loss: 1.6092 - val_accuracy: 0.6026\n",
            "Epoch 7/20\n",
            "3/3 [==============================] - 1s 228ms/step - loss: 0.2109 - accuracy: 0.9103 - val_loss: 1.5812 - val_accuracy: 0.5256\n",
            "Epoch 8/20\n",
            "3/3 [==============================] - 1s 232ms/step - loss: 0.1423 - accuracy: 0.9519 - val_loss: 1.6615 - val_accuracy: 0.5513\n",
            "Epoch 9/20\n",
            "3/3 [==============================] - 1s 227ms/step - loss: 0.1466 - accuracy: 0.9423 - val_loss: 1.5703 - val_accuracy: 0.5769\n",
            "Epoch 10/20\n",
            "3/3 [==============================] - 1s 225ms/step - loss: 0.1940 - accuracy: 0.9167 - val_loss: 1.5879 - val_accuracy: 0.5513\n",
            "Epoch 11/20\n",
            "3/3 [==============================] - 1s 229ms/step - loss: 0.2122 - accuracy: 0.9038 - val_loss: 1.6594 - val_accuracy: 0.5128\n",
            "Epoch 12/20\n",
            "3/3 [==============================] - 1s 218ms/step - loss: 0.1506 - accuracy: 0.9455 - val_loss: 1.2852 - val_accuracy: 0.5513\n",
            "Epoch 13/20\n",
            "3/3 [==============================] - 1s 225ms/step - loss: 0.1415 - accuracy: 0.9519 - val_loss: 1.5212 - val_accuracy: 0.5385\n",
            "Epoch 14/20\n",
            "3/3 [==============================] - 1s 220ms/step - loss: 0.1281 - accuracy: 0.9551 - val_loss: 1.4263 - val_accuracy: 0.6026\n",
            "Epoch 15/20\n",
            "3/3 [==============================] - 1s 225ms/step - loss: 0.0950 - accuracy: 0.9712 - val_loss: 1.4775 - val_accuracy: 0.5769\n",
            "Epoch 16/20\n",
            "3/3 [==============================] - 1s 231ms/step - loss: 0.0625 - accuracy: 0.9776 - val_loss: 1.6033 - val_accuracy: 0.5641\n",
            "Epoch 17/20\n",
            "3/3 [==============================] - 1s 223ms/step - loss: 0.0608 - accuracy: 0.9872 - val_loss: 1.8160 - val_accuracy: 0.5513\n",
            "Epoch 18/20\n",
            "3/3 [==============================] - 1s 223ms/step - loss: 0.0401 - accuracy: 0.9936 - val_loss: 1.8597 - val_accuracy: 0.5641\n",
            "Epoch 19/20\n",
            "3/3 [==============================] - 1s 236ms/step - loss: 0.0277 - accuracy: 0.9968 - val_loss: 1.9461 - val_accuracy: 0.5256\n",
            "Epoch 20/20\n",
            "3/3 [==============================] - 1s 229ms/step - loss: 0.0196 - accuracy: 0.9968 - val_loss: 1.9774 - val_accuracy: 0.5385\n"
          ],
          "name": "stdout"
        },
        {
          "output_type": "execute_result",
          "data": {
            "text/plain": [
              "<tensorflow.python.keras.callbacks.History at 0x7f9d8741fef0>"
            ]
          },
          "metadata": {
            "tags": []
          },
          "execution_count": 104
        }
      ]
    },
    {
      "cell_type": "code",
      "metadata": {
        "colab": {
          "base_uri": "https://localhost:8080/",
          "height": 573
        },
        "id": "7yaux0OxItzB",
        "outputId": "78858c76-d71c-4cf3-c09d-c65095c1cbdb"
      },
      "source": [
        "history = model_clean_data.history\n",
        "\n",
        "acc = history.history['accuracy']\n",
        "val_acc = history.history['val_accuracy']\n",
        "loss = history.history['loss']\n",
        "val_loss = history.history['val_loss']\n",
        "epochs = range(1, len(acc) + 1)\n",
        "\n",
        "plt.plot(epochs, acc, 'bo', label = 'Training Accuracy')\n",
        "plt.plot(epochs, val_acc, 'r', label = 'Validation Accuracy')\n",
        "plt.title('Training and Validation Accuracy')\n",
        "plt.xlabel('Epochs')\n",
        "plt.ylabel('Accuracy')\n",
        "plt.legend()\n",
        "y_arrow = max(val_acc)\n",
        "x_arrow = val_acc.index(y_arrow) + 1\n",
        "plt.annotate(str(y_arrow)[:6],\n",
        "             (x_arrow, y_arrow),\n",
        "             xytext=(x_arrow + 5, y_arrow + .02),\n",
        "             arrowprops=dict(facecolor='orange', shrink=0.05))\n",
        "plt.xticks(epochs)\n",
        "\n",
        "plt.figure()\n",
        "plt.plot(epochs, loss, 'bo', label = 'Training Loss')\n",
        "plt.plot(epochs, val_loss, 'r', label = 'Validation Loss')\n",
        "plt.title('Training and Validation Loss')\n",
        "plt.xlabel('Epochs')\n",
        "plt.ylabel('Loss')\n",
        "plt.legend()\n",
        "plt.xticks(epochs)\n",
        "plt.show()"
      ],
      "execution_count": null,
      "outputs": [
        {
          "output_type": "display_data",
          "data": {
            "image/png": "[encoded data removed]",
            "text/plain": [
              "<Figure size 432x288 with 1 Axes>"
            ]
          },
          "metadata": {
            "tags": [],
            "needs_background": "light"
          }
        },
        {
          "output_type": "display_data",
          "data": {
            "image/png": "[encoded data removed]",
            "text/plain": [
              "<Figure size 432x288 with 1 Axes>"
            ]
          },
          "metadata": {
            "tags": [],
            "needs_background": "light"
          }
        }
      ]
    },
    {
      "cell_type": "code",
      "metadata": {
        "id": "srwcZk8DIun2"
      },
      "source": [
        "def i_to_sentence(I):\n",
        "    sentence = \"\"\n",
        "    for i in I:\n",
        "        if i:\n",
        "            sentence += index_to_word[int(i)] + \" \"\n",
        "        else:\n",
        "            break\n",
        "    return sentence"
      ],
      "execution_count": null,
      "outputs": []
    },
    {
      "cell_type": "code",
      "metadata": {
        "colab": {
          "base_uri": "https://localhost:8080/"
        },
        "id": "7Zg4Jh5PIxJ_",
        "outputId": "96f03379-157f-4b77-d66a-ead7c2c7cfe9"
      },
      "source": [
        "# Displays acquired tweets with corresponding sentiment prediction/classification.\n",
        "C = 0\n",
        "\n",
        "pred = model_clean_data.predict(X_test)\n",
        "\n",
        "for i in range(len(X_test)):\n",
        "    final_pred = 1 if pred[i] > 0.5 else 0\n",
        "    \n",
        "    if(final_pred != Y_test[i]):\n",
        "        print('Expected sentiment:' + str(int(Y_test[i])) + '. Input: ' + i_to_sentence(X_test[i]))\n",
        "        C += 1\n",
        "        \n",
        "    if C > 100:\n",
        "        break"
      ],
      "execution_count": null,
      "outputs": [
        {
          "output_type": "stream",
          "text": [
            "Expected sentiment:1. Input: saw the tvc yesterday worked for me \n",
            "Expected sentiment:1. Input: today is our two month anniversary i love you sooo much diana omg you dont even know tar heels won the ncaa woot \n",
            "Expected sentiment:1. Input: still buzzing from unk ... thanks to for pushing the old boundaries boy someone could make money off a twitter manual ... \n",
            "Expected sentiment:1. Input: yay lol i just requested her what did she say \n",
            "Expected sentiment:0. Input: damn the grind is inspirational and saddening at the same time dont want you to stop cuz i like what you do much love \n",
            "Expected sentiment:1. Input: haha im not saying you should try it but maybe you should \n",
            "Expected sentiment:0. Input: so many channels ... yet so so boring ... lazy day again may have to find a hobby \n",
            "Expected sentiment:1. Input: agreed \n",
            "Expected sentiment:1. Input: i responded stupid cat is helping me type forgive errors \n",
            "Expected sentiment:0. Input: mo jobs no money how in the hell is min wage here 4 unk clams an hour \n",
            "Expected sentiment:1. Input: why does brisa not even know she has a twitter lauren \n",
            "Expected sentiment:1. Input: i agree my kids got who am i 4 christmas it is bn fun but i caught my 4 unk cheating by looking at reflection in tv \n",
            "Expected sentiment:0. Input: ugh ... 92 degrees tomorrow \n",
            "Expected sentiment:1. Input: hi jon great to hear from you see you on the cruise i cannot wait hope all is well on the knight bus you are loved \n",
            "Expected sentiment:0. Input: ops as i said i still got one day remain and now problem come \n",
            "Expected sentiment:0. Input: this week just seems to get longer and longer in terms of how much i need to do and how much im actually going to get done \n",
            "Expected sentiment:0. Input: why is it always the fat ones \n",
            "Expected sentiment:0. Input: wonders why someone that you like so much can make you so unhappy in a split second depressed \n",
            "Expected sentiment:0. Input: bed class 8-12 work 12-3 gym 3-5 or 6 then class 6-10 another day that is gonna fly by i miss my girlfriend \n",
            "Expected sentiment:1. Input: just tryna get inspired thats all \n",
            "Expected sentiment:1. Input: finally going to bed so tired was gonna watch the hills but didnt unk \n",
            "Expected sentiment:1. Input: i was just thinking about you tonight you have to let me be the first to interview you are a famous super star \n",
            "Expected sentiment:1. Input: jon could totally say unk and unk and i would shut my fat face about it \n",
            "Expected sentiment:0. Input: my mom might have breast cancer wont find out anything for like a week im so worried \n",
            "Expected sentiment:1. Input: so effing tired of my throat hurting ... oh ... i just got a crazy craving for a pina colada banana unk \n",
            "Expected sentiment:1. Input: should be going to bed ... maybe i will do that ... but im thinking i will put on anastasia on my laptop as i fall asleep \n",
            "Expected sentiment:0. Input: just got ur newsletter those fares really are unbelievable shame i already booked and paid for mine \n",
            "Expected sentiment:1. Input: wow that was neat thanks god unk love i apologize for sharing my spiritual moment with the general public of twitter \n",
            "Expected sentiment:1. Input: easy rider till i fall asleep \n",
            "Expected sentiment:0. Input: grrr my ipods acting weird too jai ho and thinking of you arent playing the full songs ugh \n",
            "Expected sentiment:0. Input: i hate the limited letters unk you and the guys are fine i pray for my dog unk ¿ unk not well \n",
            "Expected sentiment:0. Input: i dont see the big deal with this website \n",
            "Expected sentiment:0. Input: going to sleep hoping tomorrow is a better day \n",
            "Expected sentiment:0. Input: missin the boo \n",
            "Expected sentiment:1. Input: across the universe sleep rehearsal tomorrow \n"
          ],
          "name": "stdout"
        }
      ]
    },
    {
      "cell_type": "code",
      "metadata": {
        "id": "eTtcBVMHIzIa"
      },
      "source": [
        ""
      ],
      "execution_count": null,
      "outputs": []
    }
  ]
}